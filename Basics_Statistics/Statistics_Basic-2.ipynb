{
 "cells": [
  {
   "cell_type": "markdown",
   "id": "ca5b49f4-5ba6-4e48-a88c-fe9632386731",
   "metadata": {},
   "source": [
    "Question-1"
   ]
  },
  {
   "cell_type": "markdown",
   "id": "849c49e1-cec3-45cd-983b-e71ff0667d01",
   "metadata": {},
   "source": [
    "The three main measures of central tendency are:\n",
    "\n",
    "Mean: The mean is the average of a set of values. To calculate the mean, you add up all the values and then divide the sum by the total number of values. It is commonly represented by the symbol \"μ\" (mu) for the population mean and \"x̄\" (x-bar) for the sample mean.\n",
    "\n",
    "Median: The median is the middle value of a data set when the values are arranged in ascending or descending order. If the data set has an odd number of values, the median is the middle value. If it has an even number of values, the median is the average of the two middle values.\n",
    "\n",
    "Mode: The mode is the value that appears most frequently in a data set. A data set can have one mode (unimodal) or more than one mode (multimodal). It is possible for a data set to have no mode, in which case all values occur with the same frequency."
   ]
  },
  {
   "cell_type": "code",
   "execution_count": null,
   "id": "925c669b-00b0-4e41-b62c-a82554681753",
   "metadata": {},
   "outputs": [],
   "source": []
  },
  {
   "cell_type": "markdown",
   "id": "aba14282-193f-4e0c-9c28-bffb45272ab9",
   "metadata": {},
   "source": [
    "Question-2"
   ]
  },
  {
   "cell_type": "markdown",
   "id": "6b0fa8a1-8d69-49f3-81d3-df24bd9a4cc1",
   "metadata": {},
   "source": [
    "The mean, median, and mode are three different measures of central tendency used to describe the typical or central value of a dataset. Each measure has its strengths and weaknesses, and they may yield different results depending on the characteristics of the data. Here's a detailed explanation of each measure and how they are used:\n",
    "\n",
    "Mean:\n",
    "Definition: The mean is the average of all the values in a dataset. It is calculated by adding up all the values and dividing the sum by the total number of values.\n",
    "Formula: For a sample of 'n' values, the sample mean is calculated as (x₁ + x₂ + ... + xₙ) / n. For a population, the population mean is denoted by 'μ' and is calculated as (Σx) / N, where Σx represents the sum of all values and N is the total number of values in the population.\n",
    "Use: The mean is a commonly used measure of central tendency, especially when dealing with numerical data that is continuous and symmetrically distributed. It is sensitive to extreme values (outliers) since it considers all values in the dataset equally. As a result, outliers can significantly impact the value of the mean, potentially skewing its representation of the central tendency.\n",
    "Median:\n",
    "Definition: The median is the middle value of a dataset when arranged in ascending or descending order. If the dataset has an odd number of values, the median is the middle value. If the dataset has an even number of values, the median is the average of the two middle values.\n",
    "Formula: For a dataset with an odd number of values, the median is the middle value. For a dataset with an even number of values, the median is the average of the two middle values, (xₙ/₂ + xₙ/₂₊₁) / 2.\n",
    "Use: The median is robust to outliers since it only depends on the middle values of the dataset and not on extreme values. It is especially useful when dealing with skewed data or datasets containing outliers, as it provides a more resistant measure of central tendency.\n",
    "Mode:\n",
    "Definition: The mode is the value that appears most frequently in a dataset. A dataset can have one mode (unimodal) or more than one mode (multimodal). If all values occur with the same frequency, the dataset is considered to have no mode.\n",
    "Use: The mode is helpful when dealing with categorical or discrete data. It is particularly useful in cases where identifying the most common category or value is essential. The mode is less affected by extreme values, but it might not always be a unique or representative measure, especially in datasets with continuous data.\n"
   ]
  },
  {
   "cell_type": "code",
   "execution_count": null,
   "id": "d76afe55-5d7a-4bf0-9c8a-9960930577b8",
   "metadata": {},
   "outputs": [],
   "source": []
  },
  {
   "cell_type": "markdown",
   "id": "ef4f9034-c219-43f9-b85c-78760cedfb0b",
   "metadata": {},
   "source": [
    "Question-3"
   ]
  },
  {
   "cell_type": "code",
   "execution_count": 1,
   "id": "1e4d242c-100d-40f4-b79f-c53b7056edb7",
   "metadata": {},
   "outputs": [],
   "source": [
    "data=[178,177,176,177,178.2,178,175,179,180,175,178.9,176.2,177,172.5,178,176.5]"
   ]
  },
  {
   "cell_type": "code",
   "execution_count": 2,
   "id": "7161cdd5-0a97-4519-97f8-5d54f16b6fc7",
   "metadata": {},
   "outputs": [],
   "source": [
    "import numpy as np\n",
    "arr=np.array(data)"
   ]
  },
  {
   "cell_type": "code",
   "execution_count": 8,
   "id": "165f5545-c3d3-4309-a07b-6f21b331252b",
   "metadata": {},
   "outputs": [
    {
     "data": {
      "text/plain": [
       "177.01875"
      ]
     },
     "execution_count": 8,
     "metadata": {},
     "output_type": "execute_result"
    }
   ],
   "source": [
    "np.mean(arr)"
   ]
  },
  {
   "cell_type": "code",
   "execution_count": 7,
   "id": "4ff18241-4938-4a3b-907f-07bf12d45149",
   "metadata": {},
   "outputs": [
    {
     "data": {
      "text/plain": [
       "177.0"
      ]
     },
     "execution_count": 7,
     "metadata": {},
     "output_type": "execute_result"
    }
   ],
   "source": [
    "np.median(arr)"
   ]
  },
  {
   "cell_type": "code",
   "execution_count": 10,
   "id": "3434048a-650e-4893-ae91-f81aeb74c3b0",
   "metadata": {},
   "outputs": [
    {
     "name": "stderr",
     "output_type": "stream",
     "text": [
      "/tmp/ipykernel_77/629960472.py:2: FutureWarning: Unlike other reduction functions (e.g. `skew`, `kurtosis`), the default behavior of `mode` typically preserves the axis it acts along. In SciPy 1.11.0, this behavior will change: the default value of `keepdims` will become False, the `axis` over which the statistic is taken will be eliminated, and the value None will no longer be accepted. Set `keepdims` to True or False to avoid this warning.\n",
      "  stats.mode(arr)\n"
     ]
    },
    {
     "data": {
      "text/plain": [
       "ModeResult(mode=array([177.]), count=array([3]))"
      ]
     },
     "execution_count": 10,
     "metadata": {},
     "output_type": "execute_result"
    }
   ],
   "source": [
    "from scipy import stats\n",
    "stats.mode(arr)"
   ]
  },
  {
   "cell_type": "code",
   "execution_count": null,
   "id": "a41e0777-6d6a-44f0-92e9-d7507cac168e",
   "metadata": {},
   "outputs": [],
   "source": []
  },
  {
   "cell_type": "markdown",
   "id": "15cb4397-bb36-452e-bc91-67ae41211865",
   "metadata": {},
   "source": [
    "Question-4"
   ]
  },
  {
   "cell_type": "code",
   "execution_count": 11,
   "id": "9044df40-9658-497d-b1a5-366cf4f8c661",
   "metadata": {},
   "outputs": [
    {
     "data": {
      "text/plain": [
       "1.7885814036548633"
      ]
     },
     "execution_count": 11,
     "metadata": {},
     "output_type": "execute_result"
    }
   ],
   "source": [
    "arr.std()"
   ]
  },
  {
   "cell_type": "code",
   "execution_count": null,
   "id": "1e2a891f-b5d3-448f-8d79-191e6608bc7c",
   "metadata": {},
   "outputs": [],
   "source": []
  },
  {
   "cell_type": "markdown",
   "id": "6eae0325-82e4-4ee5-91fe-65d0a257eea2",
   "metadata": {},
   "source": [
    "Question-5"
   ]
  },
  {
   "cell_type": "markdown",
   "id": "07dcd9f3-ebfd-476e-b9d5-6d50a6e076fe",
   "metadata": {},
   "source": [
    "Measures of dispersion, such as range, variance, and standard deviation, are used to quantify the spread or variability of a dataset. They provide valuable information about how the data points are distributed around the central tendency measures (mean, median, or mode). Let's explore each measure and how they are used, along with an example:\n",
    "\n",
    "Range:\n",
    "Definition: The range is the simplest measure of dispersion, representing the difference between the maximum and minimum values in a dataset.\n",
    "Formula: Range = Maximum value - Minimum value\n",
    "Use: The range gives an idea of how spread out the data points are over the entire range of the dataset. However, it is highly sensitive to extreme values (outliers) and may not be a robust measure of dispersion in the presence of extreme values.\n",
    "Example:\n",
    "Consider the following dataset representing the ages of students in a class: [18, 19, 20, 21, 22, 23]. The range can be calculated as follows:\n",
    "Range = Maximum value (23) - Minimum value (18) = 5\n",
    "So, the range of the ages is 5 years.\n",
    "\n",
    "Variance:\n",
    "Definition: Variance measures how much the data points deviate from the mean. It quantifies the average squared deviation of data points from the mean.\n",
    "Formula: For a sample of 'n' values, the sample variance is calculated as the sum of the squared differences between each data point (xi) and the sample mean (x̄), divided by (n-1):\n",
    "Sample Variance = Σ(xi - x̄)² / (n - 1)\n",
    "For a population of 'N' values, the population variance is calculated as:\n",
    "Population Variance = Σ(xi - μ)² / N\n",
    "where μ represents the population mean.\n",
    "Use: The variance provides an understanding of the degree of variability within the dataset. It considers the squared deviations, which gives more weight to larger deviations, and is useful when working with symmetrically distributed data. However, since the variance involves squared differences, its unit is not the same as the original data, making it less interpretable.\n",
    "Example:\n",
    "Consider a dataset of exam scores for a group of students: [85, 90, 88, 92, 87]. Let's calculate the sample variance:\n",
    "Step 1: Calculate the sample mean (x̄) = (85 + 90 + 88 + 92 + 87) / 5 = 88.4\n",
    "Step 2: Calculate the squared differences for each data point:\n",
    "(85 - 88.4)² ≈ 11.56\n",
    "(90 - 88.4)² ≈ 2.56\n",
    "(88 - 88.4)² ≈ 0.16\n",
    "(92 - 88.4)² ≈ 12.96\n",
    "(87 - 88.4)² ≈ 1.96\n",
    "Step 3: Sum up the squared differences and divide by (n-1):\n",
    "Sample Variance ≈ (11.56 + 2.56 + 0.16 + 12.96 + 1.96) / 4 ≈ 7.3\n",
    "So, the sample variance of the exam scores is approximately 7.3.\n",
    "\n",
    "Standard Deviation:\n",
    "Definition: The standard deviation is the square root of the variance. It provides a measure of dispersion that is in the same unit as the original data, making it more interpretable than variance.\n",
    "Formula: The standard deviation is the square root of the variance. For a sample, the sample standard deviation (S) is calculated as:\n",
    "S = √(Σ(xi - x̄)² / (n - 1))\n",
    "For a population, the population standard deviation (σ) is calculated as:\n",
    "σ = √(Σ(xi - μ)² / N)\n",
    "Use: The standard deviation is widely used as a measure of how spread out the data points are from the mean. It is especially valuable when dealing with normally distributed data. It is also less sensitive to outliers compared to the range.\n",
    "Example (Continuation from the previous example):\n",
    "To find the standard deviation from the sample variance:\n",
    "Standard Deviation ≈ √(7.3) ≈ 2.70\n",
    "So, the standard deviation of the exam scores is approximately 2.70"
   ]
  },
  {
   "cell_type": "code",
   "execution_count": null,
   "id": "dd681107-733f-4e2d-bf0a-130d698247d3",
   "metadata": {},
   "outputs": [],
   "source": []
  },
  {
   "cell_type": "markdown",
   "id": "0d04c8e6-94bd-4777-8ed9-00b3456b8e20",
   "metadata": {},
   "source": [
    "Question-6"
   ]
  },
  {
   "cell_type": "markdown",
   "id": "7af3c4cf-fe4a-426c-a998-92ae0c2431df",
   "metadata": {},
   "source": [
    "A Venn diagram is a visual representation used to show the relationships and similarities between different sets of items or groups. It was introduced by the English logician and philosopher John Venn in the late 19th century. Venn diagrams are particularly useful for illustrating the overlapping and non-overlapping portions of sets, allowing for a clearer understanding of set relationships.\n",
    "\n",
    "A typical Venn diagram consists of overlapping circles, each representing a specific set. The items or elements belonging to each set are represented as points within the circles. The regions where the circles overlap represent elements that belong to both sets."
   ]
  },
  {
   "cell_type": "code",
   "execution_count": null,
   "id": "d142af04-f169-4b6e-99a0-bee0f1bca31d",
   "metadata": {},
   "outputs": [],
   "source": []
  },
  {
   "cell_type": "markdown",
   "id": "5698e53c-3a6e-47f6-936b-2360981a483f",
   "metadata": {},
   "source": [
    "Question-7"
   ]
  },
  {
   "cell_type": "code",
   "execution_count": 13,
   "id": "b1563bf5-925e-4334-a2e5-90a34f3e31a3",
   "metadata": {},
   "outputs": [],
   "source": [
    "A = {2,3,4,5,6,7}\n",
    "B = {0,2,6,8,10}"
   ]
  },
  {
   "cell_type": "code",
   "execution_count": 15,
   "id": "90538ba3-166d-4ae2-b39e-8f3ffd291150",
   "metadata": {},
   "outputs": [
    {
     "data": {
      "text/plain": [
       "{2, 6}"
      ]
     },
     "execution_count": 15,
     "metadata": {},
     "output_type": "execute_result"
    }
   ],
   "source": [
    "A.intersection(B)"
   ]
  },
  {
   "cell_type": "code",
   "execution_count": 16,
   "id": "0e9c99c6-20e0-4365-91fe-5b6f1cc881c2",
   "metadata": {},
   "outputs": [
    {
     "data": {
      "text/plain": [
       "{0, 2, 3, 4, 5, 6, 7, 8, 10}"
      ]
     },
     "execution_count": 16,
     "metadata": {},
     "output_type": "execute_result"
    }
   ],
   "source": [
    "A.union(B)"
   ]
  },
  {
   "cell_type": "code",
   "execution_count": null,
   "id": "f19ed517-6619-4490-880d-a4c90cbd67da",
   "metadata": {},
   "outputs": [],
   "source": []
  },
  {
   "cell_type": "markdown",
   "id": "fbc29528-8ac4-4719-960b-58f64ba3af47",
   "metadata": {},
   "source": [
    "Question-8"
   ]
  },
  {
   "cell_type": "markdown",
   "id": "34b1858f-2270-4d82-8a81-b328c323e0a2",
   "metadata": {},
   "source": [
    "Skewness is a statistical measure that describes the asymmetry or lack of symmetry in the probability distribution of a dataset. In other words, it measures the extent to which the data is skewed or \"lopsided\" from the normal distribution. Skewness is an essential concept in statistics and data analysis as it helps in understanding the shape and characteristics of the dataset.\n",
    "\n",
    "There are three main types of skewness:\n",
    "\n",
    "Positive Skewness (Right Skewness):\n",
    "In a positively skewed distribution, the tail on the right side of the distribution is longer or more stretched out than the left tail. This means that there are more extreme values (higher values) on the right side, leading to a concentration of data on the left side. The mean of a positively skewed distribution is typically greater than the median.\n",
    "Example: A dataset representing the income of individuals in a low-income neighborhood. Most individuals have low incomes, but a few high-income individuals contribute to the long right tail.\n",
    "\n",
    "Negative Skewness (Left Skewness):\n",
    "In a negatively skewed distribution, the tail on the left side of the distribution is longer or more stretched out than the right tail. This indicates a concentration of data on the right side and more extreme values (lower values) on the left side. The mean of a negatively skewed distribution is typically less than the median.\n",
    "Example: A dataset representing the number of hours spent on studying for an exam by a group of students. Most students may spend a similar amount of time studying, but a few students who studied for a significantly lower number of hours contribute to the long left tail.\n",
    "\n",
    "Symmetric or Zero Skewness:\n",
    "A symmetric distribution has no skewness, meaning the dataset is evenly distributed on both sides of the mean, and both tails are equal in length. In this case, the mean and the median are equal.\n",
    "Example: A dataset representing the heights of a random sample of adults from a normally distributed population. The distribution is symmetric around the mean height, and there are no pronounced tails on either side."
   ]
  },
  {
   "cell_type": "code",
   "execution_count": null,
   "id": "29114b61-c312-4ca1-8763-83bb8ec2b171",
   "metadata": {},
   "outputs": [],
   "source": []
  },
  {
   "cell_type": "markdown",
   "id": "8edf8deb-b197-4c13-8c8a-90343915c52d",
   "metadata": {},
   "source": [
    "Question-9"
   ]
  },
  {
   "cell_type": "markdown",
   "id": "fa319ba5-e509-40a6-a27c-66d3f855d104",
   "metadata": {},
   "source": [
    "f a dataset is right-skewed, the position of the median with respect to the mean will be shifted to the left of the mean. In other words, the median will be less than the mean in a right-skewed distribution.\n",
    "\n",
    "Here's why this happens:\n",
    "\n",
    "Right-skewed distributions have a long right tail, which means there are more extreme values on the right side of the distribution.\n",
    "These extreme values on the right side pull the mean towards higher values, making it larger than the median.\n",
    "On the other hand, the median is less sensitive to extreme values because it only depends on the middle value(s) of the dataset, not their actual values.\n",
    "As a result, the median will be positioned closer to the less influenced bulk of the data, which is typically on the left side, and this results in the median being less than the mean in a right-skewed distribution."
   ]
  },
  {
   "cell_type": "code",
   "execution_count": null,
   "id": "6c1b8870-7cd4-4c19-af7d-1cb3670f3ff7",
   "metadata": {},
   "outputs": [],
   "source": []
  },
  {
   "cell_type": "markdown",
   "id": "f42e6888-256f-4a0a-8da4-7cca6a61ecbd",
   "metadata": {},
   "source": [
    "Questino-10"
   ]
  },
  {
   "cell_type": "markdown",
   "id": "d7a12f2f-6321-4098-8cdf-fea60f4e6378",
   "metadata": {},
   "source": [
    "\n",
    "Covariance and correlation are both measures that describe the relationship between two variables in a dataset. However, they have distinct properties and interpretations:\n",
    "\n",
    "Covariance:\n",
    "Definition: Covariance measures the degree of joint variability between two variables. It indicates whether the two variables tend to increase or decrease together. If the covariance is positive, it means that when one variable increases, the other tends to increase as well. If the covariance is negative, it means that when one variable increases, the other tends to decrease.\n",
    "Formula: For two variables X and Y with 'n' data points, the sample covariance (Sxy) is calculated as:\n",
    "Sxy = Σ[(xi - x̄)(yi - ȳ)] / (n - 1)\n",
    "where xi and yi are the individual data points for X and Y, x̄ and ȳ are their respective sample means.\n",
    "Use: Covariance helps identify the direction of the relationship between two variables. However, it does not provide a standardized measure, and its value depends on the scales of the variables. Consequently, interpreting the magnitude of the covariance alone can be challenging.\n",
    "Correlation:\n",
    "Definition: Correlation is a standardized measure of the strength and direction of the linear relationship between two variables. It shows how well the two variables are linearly related to each other. The correlation coefficient is bounded between -1 and +1. A correlation of +1 indicates a perfect positive linear relationship, -1 indicates a perfect negative linear relationship, and 0 indicates no linear relationship.\n",
    "Formula: The sample correlation coefficient (r) is calculated as the covariance of X and Y divided by the product of their sample standard deviations:\n",
    "r = Sxy / (Sx * Sy)\n",
    "where Sxy is the sample covariance, Sx is the sample standard deviation of X, and Sy is the sample standard deviation of Y.\n",
    "Use: Correlation provides a standardized measure, making it easier to compare the relationships between different pairs of variables. It allows researchers to determine not only the direction but also the strength of the relationship between the variables. The correlation coefficient is widely used in various fields, including finance, social sciences, and data analysis, to assess the strength of associations between variables and to identify potential patterns or trends.\n",
    "In statistical analysis, both covariance and correlation play vital roles:\n",
    "\n",
    "Covariance is used to understand the direction of the relationship between two variables. If the covariance is positive, it suggests that the variables tend to increase together, while a negative covariance indicates an inverse relationship.\n",
    "\n",
    "Correlation, on the other hand, provides a more standardized measure of the relationship. It is widely used to assess the strength of the linear relationship between two variables, allowing researchers to compare and rank the relationships between different pairs of variables."
   ]
  },
  {
   "cell_type": "code",
   "execution_count": null,
   "id": "e2a754a0-79ad-4ed2-ac19-24db775d7b84",
   "metadata": {},
   "outputs": [],
   "source": []
  },
  {
   "cell_type": "markdown",
   "id": "eb2a083a-d688-42f2-ae2e-f7c3e8ee626a",
   "metadata": {},
   "source": [
    "Question-11"
   ]
  },
  {
   "cell_type": "markdown",
   "id": "5aaa9d8f-dea7-4b9b-8386-091a6a76e2ed",
   "metadata": {},
   "source": [
    "The formula for calculating the sample mean (x̄) is the sum of all the values in the dataset divided by the total number of values (n).\n",
    "\n",
    "Formula for the sample mean (x̄):\n",
    "x̄ = (x₁ + x₂ + ... + xₙ) / n\n",
    "\n",
    "where:\n",
    "x₁, x₂, ..., xₙ are the individual data points in the dataset.\n",
    "n is the total number of data points in the dataset.\n",
    "\n",
    "Example calculation:\n",
    "\n",
    "Let's find the sample mean for the following dataset:\n",
    "\n",
    "[12, 15, 18, 21, 24]\n",
    "\n",
    "Step 1: Add up all the values in the dataset:\n",
    "12 + 15 + 18 + 21 + 24 = 90\n",
    "\n",
    "Step 2: Count the total number of data points (n):\n",
    "n = 5\n",
    "\n",
    "Step 3: Calculate the sample mean (x̄):\n",
    "x̄ = 90 / 5 = 18\n",
    "\n",
    "So, the sample mean for the dataset [12, 15, 18, 21, 24] is 18."
   ]
  },
  {
   "cell_type": "code",
   "execution_count": null,
   "id": "8e2b48cd-3384-4abe-9eb7-92f9ef1cedce",
   "metadata": {},
   "outputs": [],
   "source": []
  },
  {
   "cell_type": "markdown",
   "id": "c70a5662-b5ec-4dbb-aac5-ebf90bc0ec2c",
   "metadata": {},
   "source": [
    "Question-12"
   ]
  },
  {
   "cell_type": "markdown",
   "id": "7faca133-b53f-461d-b733-0389a733f335",
   "metadata": {},
   "source": [
    "For a normal distribution, the measures of central tendency—mean, median, and mode—are equal and located at the center of the distribution"
   ]
  },
  {
   "cell_type": "code",
   "execution_count": null,
   "id": "b0177b02-b0ff-451b-85bb-8357e689ba4d",
   "metadata": {},
   "outputs": [],
   "source": []
  },
  {
   "cell_type": "markdown",
   "id": "0c94e514-f58b-42da-845a-96e755b40f90",
   "metadata": {},
   "source": [
    "Question-13"
   ]
  },
  {
   "cell_type": "markdown",
   "id": "1bcb0f5f-f170-4258-90ce-eb4d0761e6b3",
   "metadata": {},
   "source": [
    "Covariance is used to understand the direction of the relationship between two variables. If the covariance is positive, it suggests that the variables tend to increase together, while a negative covariance indicates an inverse relationship.\n",
    "\n",
    "Correlation, on the other hand, provides a more standardized measure of the relationship. It is widely used to assess the strength of the linear relationship between two variables, allowing researchers to compare and rank the relationships between different pairs of variables."
   ]
  },
  {
   "cell_type": "code",
   "execution_count": null,
   "id": "5c9b7b69-0a66-4ef0-a953-7099ce7ea003",
   "metadata": {},
   "outputs": [],
   "source": []
  },
  {
   "cell_type": "markdown",
   "id": "ec499142-17b4-4974-a776-98766d76ed31",
   "metadata": {},
   "source": [
    "Question-14"
   ]
  },
  {
   "cell_type": "markdown",
   "id": "ea06050c-e84f-41b7-8cc4-a0f0a923522e",
   "metadata": {},
   "source": [
    "Outliers can significantly impact both measures of central tendency and measures of dispersion in a dataset. An outlier is an extreme value that is substantially different from the majority of the data points in the dataset. Outliers can occur due to errors in data collection or genuine rare occurrences in the underlying phenomenon being studied. Let's see how outliers affect these measures with an example:\n",
    "\n",
    "Example:\n",
    "Consider the following dataset representing the ages of a group of people attending a workshop on data science: [22, 25, 27, 28, 29, 30, 31, 33, 35, 40, 50].\n",
    "\n",
    "Measures of Central Tendency:\n",
    "\n",
    "Mean:\n",
    "Original Mean = (22 + 25 + 27 + 28 + 29 + 30 + 31 + 33 + 35 + 40 + 50) / 11 ≈ 32.36\n",
    "Now, let's add an outlier to the dataset, say 200.\n",
    "\n",
    "Updated Dataset with Outlier: [22, 25, 27, 28, 29, 30, 31, 33, 35, 40, 50, 200].\n",
    "\n",
    "Updated Mean = (22 + 25 + 27 + 28 + 29 + 30 + 31 + 33 + 35 + 40 + 50 + 200) / 12 ≈ 46.33\n",
    "\n",
    "As you can see, the mean has shifted significantly from 32.36 to 46.33 due to the presence of the outlier. Outliers have a strong impact on the mean since the mean considers all values equally and is sensitive to extreme values.\n",
    "\n",
    "Median:\n",
    "The median is the middle value of the dataset. In the original dataset, the median is 30. However, after adding the outlier, the median remains unaffected at 30. The median is a robust measure of central tendency and is less sensitive to outliers.\n",
    "Measures of Dispersion:\n",
    "\n",
    "Range:\n",
    "The range is the difference between the maximum and minimum values in the dataset. In the original dataset, the range is 50 - 22 = 28. After adding the outlier (200), the range becomes 200 - 22 = 178. Outliers significantly increase the range, making it less representative of the typical spread of the data.\n",
    "\n",
    "Variance and Standard Deviation:\n",
    "Both variance and standard deviation consider the squared differences of data points from the mean. As we saw earlier, the mean changed significantly when the outlier was added, leading to larger squared differences and, consequently, larger variance and standard deviation values."
   ]
  },
  {
   "cell_type": "code",
   "execution_count": null,
   "id": "06c3c9f4-c036-4a8d-9966-78b1d9d135c6",
   "metadata": {},
   "outputs": [],
   "source": []
  },
  {
   "cell_type": "code",
   "execution_count": null,
   "id": "870f8c75-da8b-4954-9cc1-582dc28325d5",
   "metadata": {},
   "outputs": [],
   "source": []
  }
 ],
 "metadata": {
  "kernelspec": {
   "display_name": "Python 3 (ipykernel)",
   "language": "python",
   "name": "python3"
  },
  "language_info": {
   "codemirror_mode": {
    "name": "ipython",
    "version": 3
   },
   "file_extension": ".py",
   "mimetype": "text/x-python",
   "name": "python",
   "nbconvert_exporter": "python",
   "pygments_lexer": "ipython3",
   "version": "3.10.8"
  }
 },
 "nbformat": 4,
 "nbformat_minor": 5
}
