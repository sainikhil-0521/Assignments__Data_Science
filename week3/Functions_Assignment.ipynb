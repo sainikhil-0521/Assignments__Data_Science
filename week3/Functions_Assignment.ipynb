{
 "cells": [
  {
   "cell_type": "markdown",
   "id": "1cae397d-b7b0-4f14-8462-1451dd2aa7c4",
   "metadata": {},
   "source": [
    "Question-1\n"
   ]
  },
  {
   "cell_type": "code",
   "execution_count": 3,
   "id": "b783e976-2cd7-43ec-a8d3-22d58163c9d8",
   "metadata": {},
   "outputs": [
    {
     "name": "stdout",
     "output_type": "stream",
     "text": [
      "[1, 3, 5, 7, 9, 11, 13, 15, 17, 19, 21, 23, 25]\n"
     ]
    }
   ],
   "source": [
    "def get_odd_numbers():\n",
    "    odd_numbers = []\n",
    "    for number in range(1, 26):\n",
    "        if number % 2 != 0:\n",
    "            odd_numbers.append(number)\n",
    "    return odd_numbers\n",
    "\n",
    "\n",
    "result = get_odd_numbers()\n",
    "print(result)"
   ]
  },
  {
   "cell_type": "markdown",
   "id": "d3a04e59-e082-46e7-89e2-d8b0315e4d96",
   "metadata": {},
   "source": [
    "Question-2 <br>\n",
    "<br>\n",
    "In Python, *args and **kwargs are used to handle variable-length arguments in functions."
   ]
  },
  {
   "cell_type": "code",
   "execution_count": 5,
   "id": "5fcd4d61-d02b-4984-8180-4140b56b7a2b",
   "metadata": {},
   "outputs": [
    {
     "name": "stdout",
     "output_type": "stream",
     "text": [
      "15\n"
     ]
    }
   ],
   "source": [
    "def calculate_sum(*args):\n",
    "    total = 0\n",
    "    for num in args:\n",
    "        total += num\n",
    "    return total\n",
    "\n",
    "result = calculate_sum(1, 2, 3, 4, 5)\n",
    "print(result)\n"
   ]
  },
  {
   "cell_type": "code",
   "execution_count": 7,
   "id": "14a22580-06fe-46d7-916c-37a8df9231cb",
   "metadata": {},
   "outputs": [
    {
     "name": "stdout",
     "output_type": "stream",
     "text": [
      "name: John Doe\n",
      "age: 25\n",
      "city: New York\n"
     ]
    }
   ],
   "source": [
    "def display_person_details(**kwargs):\n",
    "    for key, value in kwargs.items():\n",
    "        print(\"{}: {}\".format(key,value))\n",
    "\n",
    "display_person_details(name=\"John Doe\", age=25, city=\"New York\")\n"
   ]
  },
  {
   "cell_type": "code",
   "execution_count": null,
   "id": "46234ca4-235f-4a3d-9d2a-2dc8a554958c",
   "metadata": {},
   "outputs": [],
   "source": []
  },
  {
   "cell_type": "markdown",
   "id": "7f746027-b596-4214-b4f9-bc62d84040db",
   "metadata": {},
   "source": [
    "Question-3"
   ]
  },
  {
   "cell_type": "markdown",
   "id": "34db60da-8714-439f-9265-b11bc5d58e9c",
   "metadata": {},
   "source": [
    " An iterator is an object that represents a stream of data and enables iteration over the elements of a container or a sequence. It provides a way to access the elements of an object one by one without needing to know the underlying structure or implementation details. <br>\n",
    " <br>\n",
    " To initialize an iterator object, you can use the iter() function. <br>\n",
    " To iterate over the elements of an iterator, you can use the next() function"
   ]
  },
  {
   "cell_type": "code",
   "execution_count": 9,
   "id": "e3ebcdca-f419-4ce4-aa62-323556fc8f58",
   "metadata": {},
   "outputs": [
    {
     "name": "stdout",
     "output_type": "stream",
     "text": [
      "2\n",
      "4\n",
      "6\n",
      "8\n",
      "10\n"
     ]
    }
   ],
   "source": [
    "my_list = [2, 4, 6, 8, 10, 12, 14, 16, 18, 20]\n",
    "my_iterator = iter(my_list)\n",
    "for _ in range(5):\n",
    "    element = next(my_iterator)\n",
    "    print(element)"
   ]
  },
  {
   "cell_type": "markdown",
   "id": "63c442ea-16b1-46ae-bd9e-e7a63c58759b",
   "metadata": {},
   "source": [
    "Question-4 <br>\n",
    "<br>\n",
    "A generator function is a special type of function that generates a sequence of values on-the-fly instead of returning them all at once. It uses the yield keyword instead of return to produce a series of values, one at a time, whenever the generator function is iterated. <br>\n",
    "<br>\n",
    "The yield keyword is used in a generator function to pause the function's execution and yield a value to the caller. When the generator function is iterated or when the next() function is called on the generator object, it resumes execution from where it left off and produces the next value."
   ]
  },
  {
   "cell_type": "code",
   "execution_count": 19,
   "id": "ac5b46b7-fcdf-47df-97db-136bf0c96859",
   "metadata": {},
   "outputs": [
    {
     "name": "stdout",
     "output_type": "stream",
     "text": [
      "<generator object generate_even_numbers at 0x7f5084060190>\n",
      "0\n",
      "2\n",
      "4\n",
      "6\n",
      "8\n"
     ]
    }
   ],
   "source": [
    "def generate_even_numbers(limit):\n",
    "    num = 0\n",
    "    while num < limit:\n",
    "        yield num\n",
    "        num += 2\n",
    "even_generator = generate_even_numbers(10)\n",
    "print(even_generator)\n",
    "for even_num in even_generator:\n",
    "    print(even_num)\n",
    "\n"
   ]
  },
  {
   "cell_type": "code",
   "execution_count": null,
   "id": "e383b3b0-5090-4f2a-b7f8-866a4f09732d",
   "metadata": {},
   "outputs": [],
   "source": []
  },
  {
   "cell_type": "markdown",
   "id": "bbefef83-b1dc-44f5-a68a-a0d18fbaafb8",
   "metadata": {},
   "source": [
    "Question-5"
   ]
  },
  {
   "cell_type": "code",
   "execution_count": 21,
   "id": "f578635f-d777-46ed-ab3e-48bd36ff4e78",
   "metadata": {},
   "outputs": [
    {
     "name": "stdout",
     "output_type": "stream",
     "text": [
      "2\n",
      "3\n",
      "5\n",
      "7\n",
      "11\n",
      "13\n",
      "17\n",
      "19\n",
      "23\n",
      "29\n",
      "31\n",
      "37\n",
      "41\n",
      "43\n",
      "47\n",
      "53\n",
      "59\n",
      "61\n",
      "67\n",
      "71\n"
     ]
    }
   ],
   "source": [
    "import math\n",
    "def generate_prime_numbers():\n",
    "    \n",
    "    num = 2\n",
    "    for i in range(2,1000):\n",
    "        if all(num % val != 0 for val in range(2,int(math.sqrt(i))+1)):\n",
    "            yield num\n",
    "        num += 1\n",
    "\n",
    "prime_generator = generate_prime_numbers()\n",
    "for _ in range(20):\n",
    "    prime_num = next(prime_generator)\n",
    "    print(prime_num)\n"
   ]
  },
  {
   "cell_type": "code",
   "execution_count": null,
   "id": "cd657186-b30b-42dc-8106-6b0bb370d33b",
   "metadata": {},
   "outputs": [],
   "source": []
  }
 ],
 "metadata": {
  "kernelspec": {
   "display_name": "Python 3 (ipykernel)",
   "language": "python",
   "name": "python3"
  },
  "language_info": {
   "codemirror_mode": {
    "name": "ipython",
    "version": 3
   },
   "file_extension": ".py",
   "mimetype": "text/x-python",
   "name": "python",
   "nbconvert_exporter": "python",
   "pygments_lexer": "ipython3",
   "version": "3.10.8"
  }
 },
 "nbformat": 4,
 "nbformat_minor": 5
}
