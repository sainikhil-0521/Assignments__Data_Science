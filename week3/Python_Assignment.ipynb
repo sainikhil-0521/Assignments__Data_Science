{
 "cells": [
  {
   "cell_type": "markdown",
   "id": "528abf88-435c-498a-b4e3-c8ae92c16f52",
   "metadata": {},
   "source": [
    "Question-1"
   ]
  },
  {
   "cell_type": "code",
   "execution_count": null,
   "id": "5223394e-9a29-443c-8d9d-25e068f29447",
   "metadata": {},
   "outputs": [],
   "source": [
    "my_list=[('Sachin Tendulkar', 34357), ('Ricky Ponting', 27483), ('Jack Kallis', 25534), ('Virat Kohli', 24936)]\n",
    "\n",
    "sorted_list = sorted(my_list, key=lambda x: x[1])\n",
    "\n",
    "for item in sorted_list:\n",
    "    print(item)\n"
   ]
  },
  {
   "cell_type": "code",
   "execution_count": null,
   "id": "0d3e1ada-749b-4d18-901a-056f86ea1bdb",
   "metadata": {},
   "outputs": [],
   "source": []
  },
  {
   "cell_type": "markdown",
   "id": "58a33f99-218c-4063-85d5-0e0ac2394920",
   "metadata": {},
   "source": [
    "Question-2"
   ]
  },
  {
   "cell_type": "code",
   "execution_count": 34,
   "id": "747d23cb-f823-4328-b1e0-224389832541",
   "metadata": {},
   "outputs": [
    {
     "name": "stdout",
     "output_type": "stream",
     "text": [
      "[1, 4, 9, 16, 25, 36, 49, 64, 81, 100]\n"
     ]
    }
   ],
   "source": [
    "my_list=[1, 2, 3, 4, 5, 6, 7, 8, 9, 10]\n",
    "\n",
    "print(list(map(lambda x:x**2,my_list)))\n"
   ]
  },
  {
   "cell_type": "code",
   "execution_count": null,
   "id": "a84afe1a-b59b-4471-be42-2287f573376c",
   "metadata": {},
   "outputs": [],
   "source": []
  },
  {
   "cell_type": "markdown",
   "id": "1632c256-7412-40d9-8d6d-3f495c30dd4b",
   "metadata": {},
   "source": [
    "Question-3"
   ]
  },
  {
   "cell_type": "code",
   "execution_count": 36,
   "id": "b40098af-08f2-46e6-beb2-9ea6525089c3",
   "metadata": {},
   "outputs": [
    {
     "name": "stdout",
     "output_type": "stream",
     "text": [
      "('1', '2', '3', '4', '5', '6', '7', '8', '9', '10')\n"
     ]
    }
   ],
   "source": [
    "my_list=[1, 2, 3, 4, 5, 6, 7, 8, 9, 10]\n",
    "print(tuple(map(lambda x:str(x),my_list)))"
   ]
  },
  {
   "cell_type": "code",
   "execution_count": null,
   "id": "7e23dc82-9c1d-4389-8e2f-b2ebfc97bcd4",
   "metadata": {},
   "outputs": [],
   "source": []
  },
  {
   "cell_type": "markdown",
   "id": "50099ae6-8aab-4468-8a28-7e701c34761f",
   "metadata": {},
   "source": [
    "Question-4"
   ]
  },
  {
   "cell_type": "code",
   "execution_count": 44,
   "id": "d1c6710c-4b70-4085-9db2-fedd075d3c62",
   "metadata": {},
   "outputs": [
    {
     "name": "stdout",
     "output_type": "stream",
     "text": [
      "[1, 2, 3, 4, 5, 6, 7, 8, 9, 10, 11, 12, 13, 14, 15, 16, 17, 18, 19, 20, 21, 22, 23, 24, 25]\n",
      "15511210043330985984000000\n"
     ]
    }
   ],
   "source": [
    "li=[i for i in range(1,26)]\n",
    "print(li)\n",
    "\n",
    "from functools import reduce\n",
    "ans=reduce(lambda x,y:x*y,li)\n",
    "print(ans)"
   ]
  },
  {
   "cell_type": "code",
   "execution_count": null,
   "id": "57974cdd-41a7-4d38-baa1-adbd8519451c",
   "metadata": {},
   "outputs": [],
   "source": []
  },
  {
   "cell_type": "markdown",
   "id": "fd3a72b6-f5a7-4e98-ac9a-2ac22f7fde81",
   "metadata": {},
   "source": [
    "Question-5"
   ]
  },
  {
   "cell_type": "code",
   "execution_count": 46,
   "id": "f359d8d4-cba0-40bd-a676-968739182b99",
   "metadata": {},
   "outputs": [
    {
     "name": "stdout",
     "output_type": "stream",
     "text": [
      "[6, 60, 90, 120]\n"
     ]
    }
   ],
   "source": [
    "my_list=[2, 3, 6, 9, 27, 60, 90, 120, 55, 46]\n",
    "\n",
    "print(list(filter(lambda x:x%2==0 and x%3==0,my_list)))"
   ]
  },
  {
   "cell_type": "markdown",
   "id": "94435f3c-4ba6-4f29-8bf7-9fba75eafb11",
   "metadata": {},
   "source": [
    "Question-6"
   ]
  },
  {
   "cell_type": "code",
   "execution_count": 47,
   "id": "557cab87-85e0-4cf4-9d0b-5cf48da3bedb",
   "metadata": {},
   "outputs": [
    {
     "name": "stdout",
     "output_type": "stream",
     "text": [
      "['php', 'aba', 'radar', 'level']\n"
     ]
    }
   ],
   "source": [
    "my_list=['python', 'php', 'aba', 'radar', 'level']\n",
    "\n",
    "print(list(filter(lambda x:x==x[::-1],my_list)))"
   ]
  },
  {
   "cell_type": "code",
   "execution_count": null,
   "id": "2dae29b7-f015-4aa0-be63-69ea9f76e5d5",
   "metadata": {},
   "outputs": [],
   "source": []
  }
 ],
 "metadata": {
  "kernelspec": {
   "display_name": "Python 3 (ipykernel)",
   "language": "python",
   "name": "python3"
  },
  "language_info": {
   "codemirror_mode": {
    "name": "ipython",
    "version": 3
   },
   "file_extension": ".py",
   "mimetype": "text/x-python",
   "name": "python",
   "nbconvert_exporter": "python",
   "pygments_lexer": "ipython3",
   "version": "3.10.8"
  }
 },
 "nbformat": 4,
 "nbformat_minor": 5
}
