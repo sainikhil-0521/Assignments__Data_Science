{
 "cells": [
  {
   "cell_type": "markdown",
   "id": "ff3d90dd-c994-447d-aef2-66f1abff5c67",
   "metadata": {},
   "source": [
    "Question-1"
   ]
  },
  {
   "cell_type": "code",
   "execution_count": 1,
   "id": "5add87f4-ed64-4abc-8d04-297662da6503",
   "metadata": {},
   "outputs": [
    {
     "data": {
      "text/plain": [
       "str"
      ]
     },
     "execution_count": 1,
     "metadata": {},
     "output_type": "execute_result"
    }
   ],
   "source": [
    "var1=\"sai\"\n",
    "type(var1)"
   ]
  },
  {
   "cell_type": "code",
   "execution_count": 3,
   "id": "e1c72395-9105-4658-a3ff-9a678052cb52",
   "metadata": {},
   "outputs": [
    {
     "data": {
      "text/plain": [
       "list"
      ]
     },
     "execution_count": 3,
     "metadata": {},
     "output_type": "execute_result"
    }
   ],
   "source": [
    "var1=[1,21,\"ok\"]\n",
    "type(var1)"
   ]
  },
  {
   "cell_type": "code",
   "execution_count": 4,
   "id": "6fee1314-a606-49ee-b8ce-c6ec01eb7928",
   "metadata": {},
   "outputs": [
    {
     "data": {
      "text/plain": [
       "float"
      ]
     },
     "execution_count": 4,
     "metadata": {},
     "output_type": "execute_result"
    }
   ],
   "source": [
    "var1=12.31\n",
    "type(var1)"
   ]
  },
  {
   "cell_type": "code",
   "execution_count": 5,
   "id": "a45b124b-dd56-4fca-885c-d1efb12e63c0",
   "metadata": {},
   "outputs": [
    {
     "data": {
      "text/plain": [
       "tuple"
      ]
     },
     "execution_count": 5,
     "metadata": {},
     "output_type": "execute_result"
    }
   ],
   "source": [
    "var1=(1,21,\"ok\")\n",
    "type(var1)"
   ]
  },
  {
   "cell_type": "code",
   "execution_count": null,
   "id": "09460c73-a779-4654-b5dd-3f48e020ee2c",
   "metadata": {},
   "outputs": [],
   "source": []
  },
  {
   "cell_type": "markdown",
   "id": "7ca99382-44c0-4c11-ad47-79dd6fe94fe3",
   "metadata": {},
   "source": [
    "Question-2"
   ]
  },
  {
   "cell_type": "code",
   "execution_count": 7,
   "id": "864f983c-26c6-4c65-aa91-bbcc9d4b76f1",
   "metadata": {},
   "outputs": [
    {
     "name": "stdout",
     "output_type": "stream",
     "text": [
      "<class 'str'>\n",
      "<class 'str'>\n",
      "<class 'list'>\n",
      "<class 'int'>\n"
     ]
    }
   ],
   "source": [
    "var1=''\n",
    "print(type(var1))\n",
    "var2='[DS,ML,Python]'\n",
    "print(type(var1))\n",
    "var3 = ['DS','ML','Python']\n",
    "print(type(var3))\n",
    "var4 = 1\n",
    "print(type(var4))"
   ]
  },
  {
   "cell_type": "code",
   "execution_count": null,
   "id": "4a306b3b-32ff-476d-bb34-acf4ac604866",
   "metadata": {},
   "outputs": [],
   "source": []
  },
  {
   "cell_type": "markdown",
   "id": "9807b351-069a-44d8-870e-c7d42ef4f9b0",
   "metadata": {},
   "source": [
    "Question-3"
   ]
  },
  {
   "cell_type": "markdown",
   "id": "91c842bc-84a0-45ba-b691-075835df3592",
   "metadata": {},
   "source": [
    "/ - used for division"
   ]
  },
  {
   "cell_type": "code",
   "execution_count": 8,
   "id": "b36803da-c3a8-46c0-bb18-0f0c66692c1d",
   "metadata": {},
   "outputs": [
    {
     "data": {
      "text/plain": [
       "2.4"
      ]
     },
     "execution_count": 8,
     "metadata": {},
     "output_type": "execute_result"
    }
   ],
   "source": [
    "12/5"
   ]
  },
  {
   "cell_type": "markdown",
   "id": "4ef5529d-93cd-4734-bb89-66abe6973b78",
   "metadata": {},
   "source": [
    "% used for remainder"
   ]
  },
  {
   "cell_type": "code",
   "execution_count": 9,
   "id": "c96b92c7-6a52-472a-b1d1-20e37ded65a0",
   "metadata": {},
   "outputs": [
    {
     "data": {
      "text/plain": [
       "1"
      ]
     },
     "execution_count": 9,
     "metadata": {},
     "output_type": "execute_result"
    }
   ],
   "source": [
    "10%3"
   ]
  },
  {
   "cell_type": "markdown",
   "id": "2f5146b7-a6b1-477b-a43f-f2b62ab1f124",
   "metadata": {},
   "source": [
    "// used for division which eliminates fractional part"
   ]
  },
  {
   "cell_type": "code",
   "execution_count": 10,
   "id": "63cbf5d0-b546-4f10-8b45-b0f8f2d50cab",
   "metadata": {},
   "outputs": [
    {
     "data": {
      "text/plain": [
       "2"
      ]
     },
     "execution_count": 10,
     "metadata": {},
     "output_type": "execute_result"
    }
   ],
   "source": [
    "12//5"
   ]
  },
  {
   "cell_type": "markdown",
   "id": "24cb7102-bee4-41e3-bf72-7992ded0b859",
   "metadata": {},
   "source": [
    "** used for exponential (power)"
   ]
  },
  {
   "cell_type": "code",
   "execution_count": 11,
   "id": "05711455-dff6-43d4-ae36-783d7b8dc7a1",
   "metadata": {},
   "outputs": [
    {
     "data": {
      "text/plain": [
       "16"
      ]
     },
     "execution_count": 11,
     "metadata": {},
     "output_type": "execute_result"
    }
   ],
   "source": [
    "2**4"
   ]
  },
  {
   "cell_type": "code",
   "execution_count": null,
   "id": "417a38a9-252f-415c-91b5-56c80a4ebd08",
   "metadata": {},
   "outputs": [],
   "source": []
  },
  {
   "cell_type": "markdown",
   "id": "e45f07c4-f3d2-4c7f-bdc9-e4b90d224bca",
   "metadata": {},
   "source": [
    "Question - 4"
   ]
  },
  {
   "cell_type": "code",
   "execution_count": 12,
   "id": "5dcd0d8f-b20c-4786-ba6c-65102a37ff37",
   "metadata": {},
   "outputs": [],
   "source": [
    "l=[12,31,\"sdsa\",323,43.21,True,2+3j,[2,3],(1,3),False]"
   ]
  },
  {
   "cell_type": "code",
   "execution_count": 13,
   "id": "8fd742e0-6849-479c-9d62-a059320ad8f0",
   "metadata": {},
   "outputs": [
    {
     "name": "stdout",
     "output_type": "stream",
     "text": [
      "12\n",
      "31\n",
      "sdsa\n",
      "323\n",
      "43.21\n",
      "True\n",
      "(2+3j)\n",
      "[2, 3]\n",
      "(1, 3)\n",
      "False\n"
     ]
    }
   ],
   "source": [
    "for i in l:\n",
    "    print(i)"
   ]
  },
  {
   "cell_type": "code",
   "execution_count": null,
   "id": "743f67dd-aa39-47e9-b16c-1bc1ffca9a92",
   "metadata": {},
   "outputs": [],
   "source": []
  },
  {
   "cell_type": "markdown",
   "id": "fe7a9930-be4d-4ddc-a874-3c60ed7e5967",
   "metadata": {},
   "source": [
    "Question - 5"
   ]
  },
  {
   "cell_type": "code",
   "execution_count": 14,
   "id": "a839c61d-3647-41a7-8bc2-e2a525c1b7d2",
   "metadata": {},
   "outputs": [
    {
     "name": "stdout",
     "output_type": "stream",
     "text": [
      "2\n"
     ]
    }
   ],
   "source": [
    "a=28\n",
    "b=2\n",
    "ans=0\n",
    "while((a%b)==0):\n",
    "    ans+=1\n",
    "    a=a/b\n",
    "if(ans>0):\n",
    "    print(ans)\n",
    "else:\n",
    "    print(\"NOt Divisible\")"
   ]
  },
  {
   "cell_type": "code",
   "execution_count": null,
   "id": "08e59ee7-6252-49b4-b1fe-18e9621b0ae1",
   "metadata": {},
   "outputs": [],
   "source": []
  },
  {
   "cell_type": "markdown",
   "id": "551d5364-d8a3-4803-b52a-88ad317b3b96",
   "metadata": {},
   "source": [
    "Question - 6"
   ]
  },
  {
   "cell_type": "code",
   "execution_count": 16,
   "id": "70802ac6-15b9-437a-ae9a-de889393920f",
   "metadata": {},
   "outputs": [],
   "source": [
    "l=[21,33,4,1,4,5,33,1,90,21,34,232,12,12,44,2,2,15,66,87,45,6,56,7,94]"
   ]
  },
  {
   "cell_type": "code",
   "execution_count": 18,
   "id": "8c2e29ec-9bce-4ca5-a574-603f8c00bd2e",
   "metadata": {},
   "outputs": [
    {
     "name": "stdout",
     "output_type": "stream",
     "text": [
      "21 is divisible by 3\n",
      "33 is divisible by 3\n",
      "4 is not divisible by 3\n",
      "1 is not divisible by 3\n",
      "4 is not divisible by 3\n",
      "5 is not divisible by 3\n",
      "33 is divisible by 3\n",
      "1 is not divisible by 3\n",
      "90 is divisible by 3\n",
      "21 is divisible by 3\n",
      "34 is not divisible by 3\n",
      "232 is not divisible by 3\n",
      "12 is divisible by 3\n",
      "12 is divisible by 3\n",
      "44 is not divisible by 3\n",
      "2 is not divisible by 3\n",
      "2 is not divisible by 3\n",
      "15 is divisible by 3\n",
      "66 is divisible by 3\n",
      "87 is divisible by 3\n",
      "45 is divisible by 3\n",
      "6 is divisible by 3\n",
      "56 is not divisible by 3\n",
      "7 is not divisible by 3\n",
      "94 is not divisible by 3\n"
     ]
    }
   ],
   "source": [
    "for i in l:\n",
    "    if((i%3)>0):\n",
    "        print(i,\"is not divisible by 3\")\n",
    "    else:\n",
    "        print(i,\"is divisible by 3\")"
   ]
  },
  {
   "cell_type": "code",
   "execution_count": null,
   "id": "b3421894-f1ce-4d1f-b734-cd3cd63c0df5",
   "metadata": {},
   "outputs": [],
   "source": []
  },
  {
   "cell_type": "markdown",
   "id": "e6f62ebc-b592-4535-b434-480b4f0c9999",
   "metadata": {},
   "source": [
    "Question - 7"
   ]
  },
  {
   "cell_type": "markdown",
   "id": "f8b090b8-d118-4944-8962-60209fbe3e24",
   "metadata": {},
   "source": [
    "Mutable : Data types that can be modified.<br>\n",
    "IMMutable : Data types that can't be modified"
   ]
  },
  {
   "cell_type": "code",
   "execution_count": 20,
   "id": "7fae12f8-3b09-44fe-8fd7-1efc7ef78195",
   "metadata": {},
   "outputs": [
    {
     "data": {
      "text/plain": [
       "[1, 34, 12]"
      ]
     },
     "execution_count": 20,
     "metadata": {},
     "output_type": "execute_result"
    }
   ],
   "source": [
    "l=[12,34,12]\n",
    "l[0]=1\n",
    "l"
   ]
  },
  {
   "cell_type": "code",
   "execution_count": 21,
   "id": "96738247-3646-4203-a605-5d25d1bc749e",
   "metadata": {},
   "outputs": [
    {
     "ename": "TypeError",
     "evalue": "'tuple' object does not support item assignment",
     "output_type": "error",
     "traceback": [
      "\u001b[0;31m---------------------------------------------------------------------------\u001b[0m",
      "\u001b[0;31mTypeError\u001b[0m                                 Traceback (most recent call last)",
      "Cell \u001b[0;32mIn[21], line 2\u001b[0m\n\u001b[1;32m      1\u001b[0m tup\u001b[38;5;241m=\u001b[39m(\u001b[38;5;241m12\u001b[39m,\u001b[38;5;241m33\u001b[39m,\u001b[38;5;241m13\u001b[39m)\n\u001b[0;32m----> 2\u001b[0m \u001b[43mtup\u001b[49m\u001b[43m[\u001b[49m\u001b[38;5;241;43m1\u001b[39;49m\u001b[43m]\u001b[49m\u001b[38;5;241m=\u001b[39m\u001b[38;5;241m0\u001b[39m\n",
      "\u001b[0;31mTypeError\u001b[0m: 'tuple' object does not support item assignment"
     ]
    }
   ],
   "source": [
    "tup=(12,33,13)\n",
    "tup[1]=0"
   ]
  },
  {
   "cell_type": "code",
   "execution_count": null,
   "id": "703a9b90-6f77-48bb-8087-dc11aa1b4ad6",
   "metadata": {},
   "outputs": [],
   "source": []
  }
 ],
 "metadata": {
  "kernelspec": {
   "display_name": "Python 3 (ipykernel)",
   "language": "python",
   "name": "python3"
  },
  "language_info": {
   "codemirror_mode": {
    "name": "ipython",
    "version": 3
   },
   "file_extension": ".py",
   "mimetype": "text/x-python",
   "name": "python",
   "nbconvert_exporter": "python",
   "pygments_lexer": "ipython3",
   "version": "3.10.8"
  }
 },
 "nbformat": 4,
 "nbformat_minor": 5
}
