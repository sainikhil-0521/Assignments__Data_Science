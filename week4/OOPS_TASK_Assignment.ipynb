{
 "cells": [
  {
   "cell_type": "markdown",
   "id": "36d61364-c995-4672-933f-9fd8ed3eafa0",
   "metadata": {},
   "source": [
    "Question-1"
   ]
  },
  {
   "cell_type": "code",
   "execution_count": 1,
   "id": "02eb2cc4-7b08-4c45-ba61-15c35bf21205",
   "metadata": {},
   "outputs": [],
   "source": [
    "class vehicle:\n",
    "    def __init__(name,speed,avg):\n",
    "        self.name_of_vehicle=name\n",
    "        self.max_speed=speed\n",
    "        self.average_of_vehicle=avg"
   ]
  },
  {
   "cell_type": "markdown",
   "id": "840cad1d-cffe-47f6-9410-750210c82347",
   "metadata": {},
   "source": [
    "Question-2"
   ]
  },
  {
   "cell_type": "code",
   "execution_count": 4,
   "id": "8b4f2d1c-0dcd-4b62-8334-29ff08ea01a3",
   "metadata": {},
   "outputs": [],
   "source": [
    "class car(vehicle):\n",
    "    def seating_capacity(capacity):\n",
    "        return name_of_vehicle,capacity\n",
    "    "
   ]
  },
  {
   "cell_type": "markdown",
   "id": "bb56ad60-d588-4f92-a740-caec1871e49e",
   "metadata": {},
   "source": [
    "Question-3"
   ]
  },
  {
   "cell_type": "markdown",
   "id": "ee20aa7f-e230-49c5-a12b-7c59959f4673",
   "metadata": {},
   "source": [
    "Multiple Inheritance: Multiple inheritance occurs when a derived class inherits from multiple base classes. It allows a class to inherit attributes and methods from multiple sources."
   ]
  },
  {
   "cell_type": "code",
   "execution_count": 5,
   "id": "10b908cf-731e-47c9-88a0-e8cf458a27b4",
   "metadata": {},
   "outputs": [
    {
     "name": "stdout",
     "output_type": "stream",
     "text": [
      "Flying\n",
      "Swimming\n"
     ]
    }
   ],
   "source": [
    "class Flyable:\n",
    "    def fly(self):\n",
    "        print(\"Flying\")\n",
    "\n",
    "class Swimmable:\n",
    "    def swim(self):\n",
    "        print(\"Swimming\")\n",
    "\n",
    "class Amphibian(Flyable, Swimmable):\n",
    "    pass\n",
    "\n",
    "amphibian = Amphibian()\n",
    "amphibian.fly()\n",
    "amphibian.swim()"
   ]
  },
  {
   "cell_type": "code",
   "execution_count": null,
   "id": "47127163-c29c-40ae-a6e3-8b9f08c33819",
   "metadata": {},
   "outputs": [],
   "source": []
  },
  {
   "cell_type": "markdown",
   "id": "32a374ae-e834-4eab-a792-183748ccb935",
   "metadata": {},
   "source": [
    "Question-4"
   ]
  },
  {
   "cell_type": "code",
   "execution_count": 6,
   "id": "ad80b388-7edc-4fd3-b589-17da77d699df",
   "metadata": {},
   "outputs": [
    {
     "name": "stdout",
     "output_type": "stream",
     "text": [
      "Alice\n",
      "25\n",
      "Bob\n",
      "30\n"
     ]
    }
   ],
   "source": [
    "class Person:\n",
    "    def __init__(self, name, age):\n",
    "        self.__name = name\n",
    "        self.__age = age\n",
    "\n",
    "    def get_name(self):\n",
    "        return self.__name\n",
    "\n",
    "    def set_name(self, new_name):\n",
    "        self.__name = new_name\n",
    "\n",
    "    def get_age(self):\n",
    "        return self.__age\n",
    "\n",
    "    def set_age(self, new_age):\n",
    "        if new_age >= 0:\n",
    "            self.__age = new_age\n",
    "        else:\n",
    "            print(\"Invalid age value. Age must be a non-negative number.\")\n",
    "\n",
    "\n",
    "\n",
    "person = Person(\"Alice\", 25)\n",
    "print(person.get_name())\n",
    "print(person.get_age())\n",
    "\n",
    "person.set_name(\"Bob\")\n",
    "person.set_age(30)\n",
    "\n",
    "print(person.get_name())\n",
    "print(person.get_age())\n"
   ]
  },
  {
   "cell_type": "code",
   "execution_count": null,
   "id": "bec70e44-c74e-4f00-8d26-700a6100af35",
   "metadata": {},
   "outputs": [],
   "source": []
  },
  {
   "cell_type": "markdown",
   "id": "dea7fbb3-23f5-4275-a8bf-856461d0ca3f",
   "metadata": {},
   "source": [
    "Question-5"
   ]
  },
  {
   "cell_type": "markdown",
   "id": "161cc036-c80c-4813-8e08-e1f1c068552c",
   "metadata": {},
   "source": [
    "Method overriding is a feature in object-oriented programming (OOP) that allows a subclass to provide a different implementation of a method that is already defined in its superclass. The overridden method in the subclass has the same name and signature as the method in the superclass but provides a different implementation to suit the specific needs of the subclass."
   ]
  },
  {
   "cell_type": "code",
   "execution_count": 8,
   "id": "629b82c0-bc44-4fdc-97e2-3ad2a3ec334a",
   "metadata": {},
   "outputs": [
    {
     "name": "stdout",
     "output_type": "stream",
     "text": [
      "Generic animal sound\n",
      "Bark! Bark!\n"
     ]
    }
   ],
   "source": [
    "class Animal:\n",
    "    def make_sound(self):\n",
    "        print(\"Generic animal sound\")\n",
    "\n",
    "class Dog(Animal):\n",
    "    def make_sound(self):\n",
    "        print(\"Bark! Bark!\")\n",
    "\n",
    "\n",
    "animal = Animal()\n",
    "dog = Dog()\n",
    "\n",
    "\n",
    "animal.make_sound()\n",
    "dog.make_sound()\n"
   ]
  },
  {
   "cell_type": "code",
   "execution_count": null,
   "id": "fe2983c2-8db5-44c3-81ac-e03af8f22229",
   "metadata": {},
   "outputs": [],
   "source": []
  }
 ],
 "metadata": {
  "kernelspec": {
   "display_name": "Python 3 (ipykernel)",
   "language": "python",
   "name": "python3"
  },
  "language_info": {
   "codemirror_mode": {
    "name": "ipython",
    "version": 3
   },
   "file_extension": ".py",
   "mimetype": "text/x-python",
   "name": "python",
   "nbconvert_exporter": "python",
   "pygments_lexer": "ipython3",
   "version": "3.10.8"
  }
 },
 "nbformat": 4,
 "nbformat_minor": 5
}
