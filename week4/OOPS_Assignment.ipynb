{
 "cells": [
  {
   "cell_type": "markdown",
   "id": "fe468ab9-c77d-4545-9b8d-752b10e6b4e8",
   "metadata": {},
   "source": [
    "Question-1"
   ]
  },
  {
   "cell_type": "markdown",
   "id": "b1a03142-d3af-4cc7-8bd3-029532ac27ab",
   "metadata": {},
   "source": [
    "\n",
    "In object-oriented programming (OOP), a class is a blueprint or a template for creating objects. It defines a set of attributes (data) and methods (functions) that the objects of that class will have. In other words, a class encapsulates data and behavior into a single unit.<br>\n",
    "<br>\n",
    "\n",
    "An object, on the other hand, is an instance of a class. It is a concrete entity that is created based on the class definition. An object has its own unique state (attribute values) and can perform actions (invoke methods) defined in the class."
   ]
  },
  {
   "cell_type": "code",
   "execution_count": 1,
   "id": "565b37f8-8f03-4c3d-8582-7a074f6c726f",
   "metadata": {},
   "outputs": [
    {
     "name": "stdout",
     "output_type": "stream",
     "text": [
      "Toyota\n",
      "Civic\n",
      "Engine started. Vroom!\n",
      "Engine stopped.\n"
     ]
    }
   ],
   "source": [
    "\n",
    "class Car:\n",
    "    def __init__(self, brand, model, year):\n",
    "        self.brand = brand\n",
    "        self.model = model\n",
    "        self.year = year\n",
    "\n",
    "    def start_engine(self):\n",
    "        print(\"Engine started. Vroom!\")\n",
    "\n",
    "    def stop_engine(self):\n",
    "        print(\"Engine stopped.\")\n",
    "\n",
    "car1 = Car(\"Toyota\", \"Corolla\", 2022)\n",
    "car2 = Car(\"Honda\", \"Civic\", 2021)\n",
    "\n",
    "print(car1.brand)\n",
    "print(car2.model)\n",
    "\n",
    "car1.start_engine()\n",
    "car2.stop_engine() \n"
   ]
  },
  {
   "cell_type": "code",
   "execution_count": null,
   "id": "7895ca9f-e8df-43e3-95e4-d9aef41e91e1",
   "metadata": {},
   "outputs": [],
   "source": []
  },
  {
   "cell_type": "markdown",
   "id": "716b8e4b-7c91-41d3-8f23-b720d10dcbe6",
   "metadata": {},
   "source": [
    "Question-2"
   ]
  },
  {
   "cell_type": "markdown",
   "id": "73185f7e-7e40-46ba-947f-923ae84ea5d9",
   "metadata": {},
   "source": [
    "Encapsulation: Encapsulation refers to the bundling of data (attributes) and related behaviors (methods) into a single unit called a class."
   ]
  },
  {
   "cell_type": "markdown",
   "id": "7a47ccbf-8a89-45ac-baca-006092ca2f14",
   "metadata": {},
   "source": [
    "Inheritance: Inheritance enables the creation of new classes (derived classes) based on existing classes (base or parent classes). The derived class inherits the attributes and methods of the base class, allowing code reuse and the establishment of a hierarchical relationship between classes"
   ]
  },
  {
   "cell_type": "markdown",
   "id": "fd427eb0-7fed-4da7-aadc-52ea0b9f4532",
   "metadata": {},
   "source": [
    "Polymorphism: Polymorphism allows objects of different classes to be treated as objects of a common base class. It enables objects to take on multiple forms and behave differently based on their specific class type."
   ]
  },
  {
   "cell_type": "markdown",
   "id": "f96e8f9c-f6ce-4e03-8abd-3afba98d9838",
   "metadata": {},
   "source": [
    "Abstraction: Abstraction focuses on providing essential features and hiding unnecessary details to simplify the complexity of real-world objects and systems"
   ]
  },
  {
   "cell_type": "code",
   "execution_count": null,
   "id": "b34c8465-05d0-4ef9-9e64-525ab31740a3",
   "metadata": {},
   "outputs": [],
   "source": []
  },
  {
   "cell_type": "markdown",
   "id": "33da4d85-50d7-4337-aeef-d663b1715f4d",
   "metadata": {},
   "source": [
    "Question-3"
   ]
  },
  {
   "cell_type": "markdown",
   "id": "5545f5fa-6aa2-4370-966f-9f1d8fa03054",
   "metadata": {},
   "source": [
    "The __init__() function, also known as the constructor, is a special method in Python classes. It is automatically called when an object of a class is created. The primary purpose of the __init__() function is to initialize the attributes (data) of an object to their initial values."
   ]
  },
  {
   "cell_type": "code",
   "execution_count": 2,
   "id": "50be42de-9774-4587-ac35-beecdb30f550",
   "metadata": {},
   "outputs": [
    {
     "name": "stdout",
     "output_type": "stream",
     "text": [
      "My name is Alice, and I am 25 years old.\n",
      "My name is Bob, and I am 30 years old.\n"
     ]
    }
   ],
   "source": [
    "class Person:\n",
    "    def __init__(self, name, age):\n",
    "        self.name = name\n",
    "        self.age = age\n",
    "\n",
    "    def introduce(self):\n",
    "        print(f\"My name is {self.name}, and I am {self.age} years old.\")\n",
    "\n",
    "person1 = Person(\"Alice\", 25)\n",
    "person2 = Person(\"Bob\", 30)\n",
    "\n",
    "person1.introduce()\n",
    "person2.introduce()\n"
   ]
  },
  {
   "cell_type": "code",
   "execution_count": null,
   "id": "e474ea64-0c32-47f2-9689-49868fdb4e79",
   "metadata": {},
   "outputs": [],
   "source": []
  },
  {
   "cell_type": "markdown",
   "id": "a199da86-a4fd-4cd9-b435-92d6db8a49d3",
   "metadata": {},
   "source": [
    "Question-4"
   ]
  },
  {
   "cell_type": "markdown",
   "id": "16f9633c-9204-4035-a3f0-5817fe2795b3",
   "metadata": {},
   "source": [
    "In object-oriented programming (OOP), self is a conventionally used parameter name that refers to the instance of a class. It represents the current object or instance on which a method is being called. It acts as a reference to access the attributes and methods of the object within the class."
   ]
  },
  {
   "cell_type": "code",
   "execution_count": null,
   "id": "c4e6160c-f8bf-4a8e-9293-884c914d7405",
   "metadata": {},
   "outputs": [],
   "source": []
  },
  {
   "cell_type": "markdown",
   "id": "afbb6c26-6c6c-4f75-a5ae-0c908770e5a9",
   "metadata": {},
   "source": [
    "Question-5"
   ]
  },
  {
   "cell_type": "markdown",
   "id": "15d64f78-bdf9-457b-8fac-776edeb02300",
   "metadata": {},
   "source": [
    "Inheritance is a fundamental concept in object-oriented programming (OOP) that allows a class to inherit properties (attributes and methods) from another class. It establishes a hierarchical relationship between classes, where a derived class (also known as a subclass or child class) inherits the attributes and methods of a base class (also known as a superclass or parent class)."
   ]
  },
  {
   "cell_type": "code",
   "execution_count": 3,
   "id": "a90b9448-41c0-407f-ace6-fb9cd96e435b",
   "metadata": {},
   "outputs": [
    {
     "name": "stdout",
     "output_type": "stream",
     "text": [
      "Animal speaks\n",
      "Dog barks\n"
     ]
    }
   ],
   "source": [
    "#Single Inheritance\n",
    "class Animal:\n",
    "    def speak(self):\n",
    "        print(\"Animal speaks\")\n",
    "\n",
    "class Dog(Animal):\n",
    "    def bark(self):\n",
    "        print(\"Dog barks\")\n",
    "\n",
    "dog = Dog()\n",
    "dog.speak()  \n",
    "dog.bark()\n"
   ]
  },
  {
   "cell_type": "code",
   "execution_count": 4,
   "id": "90d7def2-ce91-4f84-a167-6679351a6c8a",
   "metadata": {},
   "outputs": [
    {
     "name": "stdout",
     "output_type": "stream",
     "text": [
      "Flying\n",
      "Swimming\n"
     ]
    }
   ],
   "source": [
    "#Multiple Inheritance\n",
    "\n",
    "class Flyable:\n",
    "    def fly(self):\n",
    "        print(\"Flying\")\n",
    "\n",
    "class Swimmable:\n",
    "    def swim(self):\n",
    "        print(\"Swimming\")\n",
    "\n",
    "class Amphibian(Flyable, Swimmable):\n",
    "    pass\n",
    "\n",
    "amphibian = Amphibian()\n",
    "amphibian.fly()\n",
    "amphibian.swim()\n"
   ]
  },
  {
   "cell_type": "code",
   "execution_count": 5,
   "id": "5bb7f10c-a043-49cf-8cc3-02e630eb52ad",
   "metadata": {},
   "outputs": [
    {
     "name": "stdout",
     "output_type": "stream",
     "text": [
      "Vehicle moves\n",
      "Car drives\n",
      "Sports car races\n"
     ]
    }
   ],
   "source": [
    "#Multilevel Inheritance\n",
    "\n",
    "class Vehicle:\n",
    "    def move(self):\n",
    "        print(\"Vehicle moves\")\n",
    "\n",
    "class Car(Vehicle):\n",
    "    def drive(self):\n",
    "        print(\"Car drives\")\n",
    "\n",
    "class SportsCar(Car):\n",
    "    def race(self):\n",
    "        print(\"Sports car races\")\n",
    "\n",
    "\n",
    "sports_car = SportsCar()\n",
    "sports_car.move()\n",
    "sports_car.drive()\n",
    "sports_car.race()\n"
   ]
  },
  {
   "cell_type": "code",
   "execution_count": 6,
   "id": "12afd7fa-5d60-4e26-95b0-52cc44e52398",
   "metadata": {},
   "outputs": [
    {
     "name": "stdout",
     "output_type": "stream",
     "text": [
      "Drawing circle\n",
      "Drawing rectangle\n"
     ]
    }
   ],
   "source": [
    "#Hierarchical Inheritance\n",
    "\n",
    "class Shape:\n",
    "    def draw(self):\n",
    "        print(\"Drawing shape\")\n",
    "\n",
    "class Circle(Shape):\n",
    "    def draw(self):\n",
    "        print(\"Drawing circle\")\n",
    "\n",
    "class Rectangle(Shape):\n",
    "    def draw(self):\n",
    "        print(\"Drawing rectangle\")\n",
    "\n",
    "circle = Circle()\n",
    "rectangle = Rectangle()\n",
    "\n",
    "circle.draw()\n",
    "rectangle.draw()\n"
   ]
  },
  {
   "cell_type": "code",
   "execution_count": null,
   "id": "10c8f308-69c5-4b8a-b2ae-de042662789b",
   "metadata": {},
   "outputs": [],
   "source": []
  },
  {
   "cell_type": "code",
   "execution_count": null,
   "id": "b3a63f89-9bc7-43bf-bc21-6815cf819a3c",
   "metadata": {},
   "outputs": [],
   "source": []
  }
 ],
 "metadata": {
  "kernelspec": {
   "display_name": "Python 3 (ipykernel)",
   "language": "python",
   "name": "python3"
  },
  "language_info": {
   "codemirror_mode": {
    "name": "ipython",
    "version": 3
   },
   "file_extension": ".py",
   "mimetype": "text/x-python",
   "name": "python",
   "nbconvert_exporter": "python",
   "pygments_lexer": "ipython3",
   "version": "3.10.8"
  }
 },
 "nbformat": 4,
 "nbformat_minor": 5
}
