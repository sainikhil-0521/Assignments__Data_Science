{
 "cells": [
  {
   "cell_type": "markdown",
   "id": "2611371e-ea08-4c44-81d0-3737776f36fc",
   "metadata": {},
   "source": [
    "Question-1"
   ]
  },
  {
   "cell_type": "markdown",
   "id": "be4b6618-e4ef-4324-869b-5bffafb8b66b",
   "metadata": {},
   "source": [
    "\n",
    "A database is a structured collection of data that is organized, managed, and accessed electronically. It allows for efficient storage, retrieval, and manipulation of data. Databases are used in various applications and industries to store and manage large amounts of information.<br>\n",
    "<br>\n",
    "SQL (Structured Query Language) Databases:\n",
    "\n",
    "Structure: SQL databases use a structured data model based on tables with predefined schemas. Data is organized into rows and columns, and relationships between tables are established using primary and foreign keys.\n",
    "\n",
    "Schema: SQL databases have a fixed schema that defines the structure of the data. Any changes to the schema require altering the database structure, which can be a complex and time-consuming process.\n",
    "\n",
    "<br>\n",
    "<br>\n",
    "\n",
    "NoSQL (Not Only SQL) Databases:\n",
    "\n",
    "Structure: NoSQL databases use a variety of data models, such as key-value pairs, documents, columnar, or graph structures. They are designed to be flexible and adaptable to different data types and structures.\n",
    "\n",
    "Schema: NoSQL databases are schema-less or have flexible schemas, allowing for dynamic changes to the data structure. This flexibility enables agile development and accommodates evolving data needs."
   ]
  },
  {
   "cell_type": "code",
   "execution_count": null,
   "id": "f23a7eda-4517-4276-9f2a-cf4ca0d490e7",
   "metadata": {},
   "outputs": [],
   "source": []
  },
  {
   "cell_type": "markdown",
   "id": "a9295d68-b218-4bda-b43f-d17455ac929d",
   "metadata": {},
   "source": [
    "Question-2"
   ]
  },
  {
   "cell_type": "markdown",
   "id": "0d06d68d-0782-47ba-8dd5-c08713f3b2bd",
   "metadata": {},
   "source": [
    "DDL stands for Data Definition Language. It is a subset of SQL (Structured Query Language) that is used to define and manipulate the structure of a database. DDL statements are used to create, modify, and delete database objects such as tables, indexes, and views."
   ]
  },
  {
   "cell_type": "markdown",
   "id": "85756bb0-d35e-489a-9f38-ce2076ddb6d4",
   "metadata": {},
   "source": [
    "Create:<br>\n",
    "    CREATE TABLE Customers (\n",
    "    id INT PRIMARY KEY,\n",
    "    name VARCHAR(50),\n",
    "    email VARCHAR(100),\n",
    "    age INT\n",
    ");\n"
   ]
  },
  {
   "cell_type": "markdown",
   "id": "b8e8d8c8-75f4-4237-b4d2-0a96bb39224b",
   "metadata": {},
   "source": [
    "Drop<br>\n",
    "DROP TABLE Customers;\n"
   ]
  },
  {
   "cell_type": "markdown",
   "id": "9b7b68ef-1a74-4250-8a52-79632ff99221",
   "metadata": {},
   "source": [
    "Alter <br>\n",
    "ALTER TABLE Customers\n",
    "ADD COLUMN address VARCHAR(200);\n"
   ]
  },
  {
   "cell_type": "markdown",
   "id": "ddca10fc-abe7-4b52-a3bb-a4b02ddf4b90",
   "metadata": {},
   "source": [
    "Truncate<br>\n",
    "TRUNCATE TABLE Customers;\n"
   ]
  },
  {
   "cell_type": "code",
   "execution_count": null,
   "id": "ef0917fd-c93b-4424-b89f-3693048ed904",
   "metadata": {},
   "outputs": [],
   "source": []
  },
  {
   "cell_type": "markdown",
   "id": "638ab80b-c8cf-44ff-9420-1053b3ad088b",
   "metadata": {},
   "source": [
    "Question-3"
   ]
  },
  {
   "cell_type": "markdown",
   "id": "b7b64e70-27c5-406f-b81d-d9ad3bfff5ef",
   "metadata": {},
   "source": [
    "DML stands for Data Manipulation Language. It is a subset of SQL (Structured Query Language) that is used to manipulate the data within a database. DML statements are used to insert, update, and delete records in database tables.<br>\n",
    "<br>\n",
    "INSERT:\n",
    "The INSERT statement is used to add new records into a table. It specifies the table name and the values to be inserted into the corresponding columns.<br>\n",
    "INSERT INTO Employees (id, name, age, salary)\n",
    "VALUES (1, 'John Doe', 30, 5000);\n",
    "<br>\n",
    "<br>\n",
    "UPDATE:\n",
    "The UPDATE statement is used to modify existing records in a table. It allows you to change the values of one or more columns in one or more rows. <br>\n",
    "UPDATE Employees\n",
    "SET salary = 6000\n",
    "WHERE id = 1;\n",
    "<br>\n",
    "<br>\n",
    "DELETE:\n",
    "The DELETE statement is used to remove one or more records from a table. It allows you to specify a condition to identify the rows to be deleted. <br>\n",
    "DELETE FROM Employees\n",
    "WHERE id = 1;\n"
   ]
  },
  {
   "cell_type": "code",
   "execution_count": null,
   "id": "2ef49f03-598b-435b-9c0b-596a9b6f24b6",
   "metadata": {},
   "outputs": [],
   "source": []
  },
  {
   "cell_type": "markdown",
   "id": "67e2b767-51ac-4775-ac4a-92c1dd5577fa",
   "metadata": {},
   "source": [
    "Question-4"
   ]
  },
  {
   "cell_type": "markdown",
   "id": "14efcdcc-8635-43ba-a6cf-d06ceb36dc9e",
   "metadata": {},
   "source": [
    "\n",
    "DQL stands for Data Query Language. It is a subset of SQL (Structured Query Language) that is used to retrieve data from a database. DQL statements are primarily used to query and retrieve information from one or more database tables."
   ]
  },
  {
   "cell_type": "markdown",
   "id": "505d3bbd-b21e-4026-b2cb-7e91d093587c",
   "metadata": {},
   "source": [
    "SELECT statement allows you to specify the columns and conditions to retrieve specific data from one or more tables.<br>\n",
    "SELECT name, salary\n",
    "FROM Employees\n",
    "WHERE age > 30;\n"
   ]
  },
  {
   "cell_type": "code",
   "execution_count": null,
   "id": "c144d6a0-fd8b-4ec0-ad32-c963d7474615",
   "metadata": {},
   "outputs": [],
   "source": []
  },
  {
   "cell_type": "markdown",
   "id": "cb9b07e0-ae1b-4481-be4e-d5e7dabe0830",
   "metadata": {},
   "source": [
    "Question-5"
   ]
  },
  {
   "cell_type": "markdown",
   "id": "4a7d97f9-a36a-4047-9625-ed2aadc8ed10",
   "metadata": {},
   "source": [
    "Primary Key:\n",
    "A primary key is a column or a set of columns in a database table that uniquely identifies each row in the table. It serves as a unique identifier for the records and ensures the integrity and uniqueness of the data. <br>\n",
    "These are:<br>\n",
    "Uniqueness<br>\n",
    "Non-null<br>\n"
   ]
  },
  {
   "cell_type": "markdown",
   "id": "df4b72ab-e3e5-49a8-9e6f-678c8913e30f",
   "metadata": {},
   "source": [
    "Foreign Key:\n",
    "A foreign key is a column or a set of columns in a database table that establishes a link or relationship between the data in two tables. It refers to the primary key of another table and creates a logical connection between the two tables."
   ]
  },
  {
   "cell_type": "markdown",
   "id": "68969cf5-7761-4db2-8635-70f583918864",
   "metadata": {},
   "source": [
    "Relationship: A foreign key in one table points to the primary key in another related table, establishing a relationship between them. It represents the dependencies and associations between tables."
   ]
  },
  {
   "cell_type": "markdown",
   "id": "9951a701-42c5-4d2a-a201-3d186ead20ac",
   "metadata": {},
   "source": [
    "Referential Integrity: Foreign keys ensure referential integrity, meaning that the values in the foreign key column(s) must match the values of the primary key in the referenced table or be NULL."
   ]
  },
  {
   "cell_type": "code",
   "execution_count": null,
   "id": "d498ee8e-a7f5-4cfd-a5e6-1273610dd2a9",
   "metadata": {},
   "outputs": [],
   "source": []
  },
  {
   "cell_type": "markdown",
   "id": "256322b1-590d-482d-86b2-17d5c2368668",
   "metadata": {},
   "source": [
    "Question-6"
   ]
  },
  {
   "cell_type": "markdown",
   "id": "0acd08cd-dd1a-4569-b0e4-c13b82e448e5",
   "metadata": {},
   "source": [
    "import mysql.connector<br>\n",
    "mydb = mysql.connector.connect(<br>\n",
    "  host=\"localhost\",<br>\n",
    "  user=\"abc\",<br>\n",
    "  password=\"password\",<br>\n",
    "  database='test'<br>\n",
    ")<br>\n",
    "mycursor = mydb.cursor()<br>\n",
    "mycursor.execute(\"insert into test_table values (12,'sai',21,1.2)\")<br>\n",
    "mydb.commit()<br>\n",
    "mycursor.execute(\"select * from test_table\")<br>\n",
    "for i in mycursor:<br>\n",
    "    print(i)<br>\n",
    "mydb.close()<br>"
   ]
  },
  {
   "cell_type": "markdown",
   "id": "25a4092f-1656-4cd8-92b8-012aa8d788d1",
   "metadata": {},
   "source": [
    "cursor():<br>\n",
    "The cursor() method is used to create a cursor object, which allows you to execute SQL statements and retrieve data from the MySQL database. The cursor acts as a control structure that enables you to traverse and manipulate the result set returned by the executed query.<br>\n",
    "<br>\n",
    "execute():<br>\n",
    "The execute() method is used to execute SQL statements or queries using the cursor object. It allows you to send SQL statements to the MySQL database for execution.<br>"
   ]
  },
  {
   "cell_type": "code",
   "execution_count": null,
   "id": "87030aa2-caa3-4390-96db-9fc717985fc3",
   "metadata": {},
   "outputs": [],
   "source": []
  },
  {
   "cell_type": "markdown",
   "id": "feb3fdd0-4a15-4501-a6d2-abb8cbdf4568",
   "metadata": {},
   "source": [
    "Question-7"
   ]
  },
  {
   "cell_type": "markdown",
   "id": "a1a97857-a82e-41e8-9adf-b90295104947",
   "metadata": {},
   "source": [
    "1  FROM\t- Tables are joined to get the base data.<br>\n",
    "2\tWHERE -\tThe base data is filtered.<br>\n",
    "3\tGROUP BY -\tThe filtered base data is grouped.<br>\n",
    "4\tHAVING -\tThe grouped base data is filtered.<br>\n",
    "5\tSELECT -\tThe final data is returned.<br>\n",
    "6\tORDER BY -\tThe final data is sorted.<br>\n",
    "7\tLIMIT -  The returned data is limited to row count.<br>"
   ]
  },
  {
   "cell_type": "code",
   "execution_count": null,
   "id": "4798f065-3f17-4c8f-9888-21b2e48e6eb1",
   "metadata": {},
   "outputs": [],
   "source": []
  }
 ],
 "metadata": {
  "kernelspec": {
   "display_name": "Python 3 (ipykernel)",
   "language": "python",
   "name": "python3"
  },
  "language_info": {
   "codemirror_mode": {
    "name": "ipython",
    "version": 3
   },
   "file_extension": ".py",
   "mimetype": "text/x-python",
   "name": "python",
   "nbconvert_exporter": "python",
   "pygments_lexer": "ipython3",
   "version": "3.10.8"
  }
 },
 "nbformat": 4,
 "nbformat_minor": 5
}
