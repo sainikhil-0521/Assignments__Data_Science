{
 "cells": [
  {
   "cell_type": "markdown",
   "id": "507d2c67-26c4-459f-89a7-58928d1279cd",
   "metadata": {},
   "source": [
    "Question-1"
   ]
  },
  {
   "cell_type": "markdown",
   "id": "5d4a02d9-eae9-4c86-99c7-befdabeed92a",
   "metadata": {},
   "source": [
    "head(): This function returns the first n rows of a DataFrame. By default, it returns the first five rows."
   ]
  },
  {
   "cell_type": "code",
   "execution_count": 3,
   "id": "0b6423ce-bcb4-4e51-8637-b86bce5a665c",
   "metadata": {},
   "outputs": [
    {
     "name": "stdout",
     "output_type": "stream",
     "text": [
      "   A  B\n",
      "0  1  a\n",
      "1  2  b\n",
      "2  3  c\n"
     ]
    }
   ],
   "source": [
    "import pandas as pd\n",
    "\n",
    "# Create a DataFrame\n",
    "data = pd.DataFrame({'A': [1, 2, 3, 4, 5],\n",
    "                     'B': ['a', 'b', 'c', 'd', 'e']})\n",
    "\n",
    "# Display the first three rows\n",
    "print(data.head(3))\n"
   ]
  },
  {
   "cell_type": "markdown",
   "id": "69b38595-86f9-4d48-8f5d-6d9791cb0e73",
   "metadata": {},
   "source": [
    "info(): This function provides a summary of the DataFrame, including the data types of columns and information about missing values."
   ]
  },
  {
   "cell_type": "code",
   "execution_count": 7,
   "id": "c56bbb8c-88be-4eee-a174-f7dbf870d413",
   "metadata": {},
   "outputs": [
    {
     "name": "stdout",
     "output_type": "stream",
     "text": [
      "<class 'pandas.core.frame.DataFrame'>\n",
      "RangeIndex: 3 entries, 0 to 2\n",
      "Data columns (total 2 columns):\n",
      " #   Column  Non-Null Count  Dtype \n",
      "---  ------  --------------  ----- \n",
      " 0   A       3 non-null      int64 \n",
      " 1   B       2 non-null      object\n",
      "dtypes: int64(1), object(1)\n",
      "memory usage: 176.0+ bytes\n"
     ]
    }
   ],
   "source": [
    "import pandas as pd\n",
    "\n",
    "data = pd.DataFrame({'A': [1, 2, 3],\n",
    "                     'B': ['a', 'b', None]})\n",
    "data.info()\n"
   ]
  },
  {
   "cell_type": "markdown",
   "id": "6533513a-5c87-4e7e-b579-fe18e4de2e86",
   "metadata": {},
   "source": [
    "groupby(): This function is used to group the data in a DataFrame based on one or more columns."
   ]
  },
  {
   "cell_type": "code",
   "execution_count": 9,
   "id": "2c788dfd-e811-4c29-b83a-96271c4b096c",
   "metadata": {},
   "outputs": [
    {
     "name": "stdout",
     "output_type": "stream",
     "text": [
      "Jane\n",
      "   Name    City  Age\n",
      "1  Jane  London   30\n",
      "3  Jane  London   40\n",
      "\n",
      "John\n",
      "   Name      City  Age\n",
      "0  John  New York   25\n",
      "2  John     Paris   35\n",
      "\n"
     ]
    }
   ],
   "source": [
    "import pandas as pd\n",
    "\n",
    "data = pd.DataFrame({'Name': ['John', 'Jane', 'John', 'Jane'],\n",
    "                     'City': ['New York', 'London', 'Paris', 'London'],\n",
    "                     'Age': [25, 30, 35, 40]})\n",
    "\n",
    "grouped_data = data.groupby('Name')\n",
    "\n",
    "for name, group in grouped_data:\n",
    "    print(name)\n",
    "    print(group)\n",
    "    print()\n"
   ]
  },
  {
   "cell_type": "markdown",
   "id": "31da0168-ec31-42ef-821b-ae668940beba",
   "metadata": {},
   "source": [
    "sort_values(): This function is used to sort the rows of a DataFrame based on one or more columns."
   ]
  },
  {
   "cell_type": "code",
   "execution_count": 10,
   "id": "0b1854b6-82de-4b01-abcc-3e667dd9758b",
   "metadata": {},
   "outputs": [
    {
     "name": "stdout",
     "output_type": "stream",
     "text": [
      "   Name  Age\n",
      "2  Alex   20\n",
      "0  John   25\n",
      "1  Jane   30\n"
     ]
    }
   ],
   "source": [
    "import pandas as pd\n",
    "\n",
    "# Create a DataFrame\n",
    "data = pd.DataFrame({'Name': ['John', 'Jane', 'Alex'],\n",
    "                     'Age': [25, 30, 20]})\n",
    "sorted_data = data.sort_values('Age')\n",
    "print(sorted_data)\n"
   ]
  },
  {
   "cell_type": "code",
   "execution_count": null,
   "id": "38f1d20d-b2e3-4197-98a9-f036f7fbc891",
   "metadata": {},
   "outputs": [],
   "source": []
  },
  {
   "cell_type": "markdown",
   "id": "6b878571-bb2e-4ab9-b070-37545e869b14",
   "metadata": {},
   "source": [
    "Question-2"
   ]
  },
  {
   "cell_type": "code",
   "execution_count": 15,
   "id": "4efebe4e-6fea-46f6-ba36-652afe3f42ec",
   "metadata": {},
   "outputs": [],
   "source": [
    "import pandas as pd\n",
    "\n",
    "def reindex_dataframe(df):\n",
    "    df = df.reset_index(drop=True)\n",
    "    df.index = pd.RangeIndex(start=1, stop=2*len(df)+1, step=2)\n",
    "    return df\n"
   ]
  },
  {
   "cell_type": "code",
   "execution_count": 17,
   "id": "a50c1ec1-0260-47bc-b1d7-8cdbe775a88d",
   "metadata": {},
   "outputs": [
    {
     "name": "stdout",
     "output_type": "stream",
     "text": [
      "   Name  Age\n",
      "1  John   25\n",
      "3  Jane   30\n",
      "5  Alex   20\n"
     ]
    }
   ],
   "source": [
    "data = pd.DataFrame({'Name': ['John', 'Jane', 'Alex'],\n",
    "                     'Age': [25, 30, 20]})\n",
    "reindexed_df = reindex_dataframe(data)\n",
    "print(reindexed_df)\n"
   ]
  },
  {
   "cell_type": "code",
   "execution_count": null,
   "id": "e6ee10bb-1b62-4977-9173-90af50c16d97",
   "metadata": {},
   "outputs": [],
   "source": []
  },
  {
   "cell_type": "markdown",
   "id": "16138b7b-3470-4962-826d-036fb3be5e6f",
   "metadata": {},
   "source": [
    "Question-3"
   ]
  },
  {
   "cell_type": "code",
   "execution_count": 21,
   "id": "0753ba41-5213-43a2-a0e4-f408ab98639a",
   "metadata": {},
   "outputs": [],
   "source": [
    "data = pd.DataFrame()"
   ]
  },
  {
   "cell_type": "code",
   "execution_count": 44,
   "id": "76bed617-07c0-420f-ac27-4184bc9e3943",
   "metadata": {},
   "outputs": [],
   "source": [
    "data['Values']=[10,20,30,40,50]\n",
    "data['Name']=['John', 'Jane', 'Alex','Bob','Mick']"
   ]
  },
  {
   "cell_type": "code",
   "execution_count": 77,
   "id": "3db09a6b-60d6-48f4-9092-f11a955b9b06",
   "metadata": {},
   "outputs": [
    {
     "data": {
      "text/html": [
       "<div>\n",
       "<style scoped>\n",
       "    .dataframe tbody tr th:only-of-type {\n",
       "        vertical-align: middle;\n",
       "    }\n",
       "\n",
       "    .dataframe tbody tr th {\n",
       "        vertical-align: top;\n",
       "    }\n",
       "\n",
       "    .dataframe thead th {\n",
       "        text-align: right;\n",
       "    }\n",
       "</style>\n",
       "<table border=\"1\" class=\"dataframe\">\n",
       "  <thead>\n",
       "    <tr style=\"text-align: right;\">\n",
       "      <th></th>\n",
       "      <th>Values</th>\n",
       "      <th>Name</th>\n",
       "    </tr>\n",
       "  </thead>\n",
       "  <tbody>\n",
       "    <tr>\n",
       "      <th>0</th>\n",
       "      <td>10</td>\n",
       "      <td>John</td>\n",
       "    </tr>\n",
       "    <tr>\n",
       "      <th>1</th>\n",
       "      <td>20</td>\n",
       "      <td>Jane</td>\n",
       "    </tr>\n",
       "    <tr>\n",
       "      <th>2</th>\n",
       "      <td>30</td>\n",
       "      <td>Alex</td>\n",
       "    </tr>\n",
       "    <tr>\n",
       "      <th>3</th>\n",
       "      <td>40</td>\n",
       "      <td>Bob</td>\n",
       "    </tr>\n",
       "    <tr>\n",
       "      <th>4</th>\n",
       "      <td>50</td>\n",
       "      <td>Mick</td>\n",
       "    </tr>\n",
       "  </tbody>\n",
       "</table>\n",
       "</div>"
      ],
      "text/plain": [
       "   Values  Name\n",
       "0      10  John\n",
       "1      20  Jane\n",
       "2      30  Alex\n",
       "3      40   Bob\n",
       "4      50  Mick"
      ]
     },
     "execution_count": 77,
     "metadata": {},
     "output_type": "execute_result"
    }
   ],
   "source": [
    "data"
   ]
  },
  {
   "cell_type": "code",
   "execution_count": 104,
   "id": "5bd58d50-0453-4c03-8771-a3122b2c499d",
   "metadata": {},
   "outputs": [],
   "source": [
    "def summ(data):\n",
    "    ans=0\n",
    "    for i in data[\"Values\"][:3]:\n",
    "        ans+=i\n",
    "        # print(i)\n",
    "    return ans\n",
    "\n"
   ]
  },
  {
   "cell_type": "code",
   "execution_count": 105,
   "id": "6ab037f6-1267-46cf-a72a-e69e3b246778",
   "metadata": {},
   "outputs": [
    {
     "data": {
      "text/plain": [
       "60"
      ]
     },
     "execution_count": 105,
     "metadata": {},
     "output_type": "execute_result"
    }
   ],
   "source": [
    "\n",
    "summ(data)"
   ]
  },
  {
   "cell_type": "code",
   "execution_count": null,
   "id": "fbe7f2ed-07f5-48a5-b27c-8c60ce376a53",
   "metadata": {},
   "outputs": [],
   "source": []
  },
  {
   "cell_type": "markdown",
   "id": "41e87dce-6f8b-410c-bc7d-6dc7c0436bba",
   "metadata": {},
   "source": [
    "Queston-4"
   ]
  },
  {
   "cell_type": "code",
   "execution_count": 108,
   "id": "df69dae6-66af-454e-badc-f0cf4247c81c",
   "metadata": {},
   "outputs": [],
   "source": [
    "data=pd.DataFrame()\n",
    "data['Text']=['John', 'Jane', 'Alex','Bob','Mick']"
   ]
  },
  {
   "cell_type": "code",
   "execution_count": 109,
   "id": "5f60f6ee-c834-4049-88e5-d01f017a9fb7",
   "metadata": {},
   "outputs": [
    {
     "data": {
      "text/html": [
       "<div>\n",
       "<style scoped>\n",
       "    .dataframe tbody tr th:only-of-type {\n",
       "        vertical-align: middle;\n",
       "    }\n",
       "\n",
       "    .dataframe tbody tr th {\n",
       "        vertical-align: top;\n",
       "    }\n",
       "\n",
       "    .dataframe thead th {\n",
       "        text-align: right;\n",
       "    }\n",
       "</style>\n",
       "<table border=\"1\" class=\"dataframe\">\n",
       "  <thead>\n",
       "    <tr style=\"text-align: right;\">\n",
       "      <th></th>\n",
       "      <th>Text</th>\n",
       "    </tr>\n",
       "  </thead>\n",
       "  <tbody>\n",
       "    <tr>\n",
       "      <th>0</th>\n",
       "      <td>John</td>\n",
       "    </tr>\n",
       "    <tr>\n",
       "      <th>1</th>\n",
       "      <td>Jane</td>\n",
       "    </tr>\n",
       "    <tr>\n",
       "      <th>2</th>\n",
       "      <td>Alex</td>\n",
       "    </tr>\n",
       "    <tr>\n",
       "      <th>3</th>\n",
       "      <td>Bob</td>\n",
       "    </tr>\n",
       "    <tr>\n",
       "      <th>4</th>\n",
       "      <td>Mick</td>\n",
       "    </tr>\n",
       "  </tbody>\n",
       "</table>\n",
       "</div>"
      ],
      "text/plain": [
       "   Text\n",
       "0  John\n",
       "1  Jane\n",
       "2  Alex\n",
       "3   Bob\n",
       "4  Mick"
      ]
     },
     "execution_count": 109,
     "metadata": {},
     "output_type": "execute_result"
    }
   ],
   "source": [
    "data"
   ]
  },
  {
   "cell_type": "code",
   "execution_count": 118,
   "id": "14c6303e-c752-4458-8eac-0a5d9a131d59",
   "metadata": {},
   "outputs": [],
   "source": [
    "data['Word_count']=data['Text'].apply(lambda x:len(x))"
   ]
  },
  {
   "cell_type": "code",
   "execution_count": 119,
   "id": "5d3d219e-dd9d-4621-92bd-e9fdccde5368",
   "metadata": {},
   "outputs": [
    {
     "data": {
      "text/html": [
       "<div>\n",
       "<style scoped>\n",
       "    .dataframe tbody tr th:only-of-type {\n",
       "        vertical-align: middle;\n",
       "    }\n",
       "\n",
       "    .dataframe tbody tr th {\n",
       "        vertical-align: top;\n",
       "    }\n",
       "\n",
       "    .dataframe thead th {\n",
       "        text-align: right;\n",
       "    }\n",
       "</style>\n",
       "<table border=\"1\" class=\"dataframe\">\n",
       "  <thead>\n",
       "    <tr style=\"text-align: right;\">\n",
       "      <th></th>\n",
       "      <th>Text</th>\n",
       "      <th>Word_count</th>\n",
       "    </tr>\n",
       "  </thead>\n",
       "  <tbody>\n",
       "    <tr>\n",
       "      <th>0</th>\n",
       "      <td>John</td>\n",
       "      <td>4</td>\n",
       "    </tr>\n",
       "    <tr>\n",
       "      <th>1</th>\n",
       "      <td>Jane</td>\n",
       "      <td>4</td>\n",
       "    </tr>\n",
       "    <tr>\n",
       "      <th>2</th>\n",
       "      <td>Alex</td>\n",
       "      <td>4</td>\n",
       "    </tr>\n",
       "    <tr>\n",
       "      <th>3</th>\n",
       "      <td>Bob</td>\n",
       "      <td>3</td>\n",
       "    </tr>\n",
       "    <tr>\n",
       "      <th>4</th>\n",
       "      <td>Mick</td>\n",
       "      <td>4</td>\n",
       "    </tr>\n",
       "  </tbody>\n",
       "</table>\n",
       "</div>"
      ],
      "text/plain": [
       "   Text  Word_count\n",
       "0  John           4\n",
       "1  Jane           4\n",
       "2  Alex           4\n",
       "3   Bob           3\n",
       "4  Mick           4"
      ]
     },
     "execution_count": 119,
     "metadata": {},
     "output_type": "execute_result"
    }
   ],
   "source": [
    "data"
   ]
  },
  {
   "cell_type": "code",
   "execution_count": null,
   "id": "0c50faa4-445a-4ba4-aee1-8ed1b551ba40",
   "metadata": {},
   "outputs": [],
   "source": []
  },
  {
   "cell_type": "markdown",
   "id": "1dd28601-d442-410c-94d2-20745b6b54b3",
   "metadata": {},
   "source": [
    "Question-5"
   ]
  },
  {
   "cell_type": "code",
   "execution_count": 121,
   "id": "f04c449e-707b-447f-aa15-d7e6f4a10814",
   "metadata": {},
   "outputs": [
    {
     "name": "stdout",
     "output_type": "stream",
     "text": [
      "6\n"
     ]
    }
   ],
   "source": [
    "import pandas as pd\n",
    "\n",
    "df = pd.DataFrame({'A': [1, 2, 3], 'B': [4, 5, 6]})\n",
    "size = df.size\n",
    "\n",
    "print(size)\n"
   ]
  },
  {
   "cell_type": "code",
   "execution_count": 122,
   "id": "5fedb64d-49a6-4c48-84f1-0253608feb09",
   "metadata": {},
   "outputs": [
    {
     "name": "stdout",
     "output_type": "stream",
     "text": [
      "(3, 2)\n"
     ]
    }
   ],
   "source": [
    "import pandas as pd\n",
    "\n",
    "df = pd.DataFrame({'A': [1, 2, 3], 'B': [4, 5, 6]})\n",
    "shape = df.shape\n",
    "\n",
    "print(shape)\n"
   ]
  },
  {
   "cell_type": "code",
   "execution_count": null,
   "id": "9457071b-630f-4d1c-a8a5-8d807d62ef8d",
   "metadata": {},
   "outputs": [],
   "source": []
  },
  {
   "cell_type": "markdown",
   "id": "a3398c87-0b03-4703-af1e-f8e2e8812733",
   "metadata": {},
   "source": [
    "Question-6"
   ]
  },
  {
   "cell_type": "markdown",
   "id": "8cdf55c7-fcaa-4045-84db-1cc9548412d1",
   "metadata": {},
   "source": [
    "To read an Excel file using pandas, you can use the read_excel() function. This function allows you to read data from an Excel file and create a DataFrame. "
   ]
  },
  {
   "cell_type": "code",
   "execution_count": null,
   "id": "4035a120-1c4f-4dd5-a556-2d2daf866595",
   "metadata": {},
   "outputs": [],
   "source": []
  },
  {
   "cell_type": "markdown",
   "id": "1283c9d8-a541-4f72-b406-61dfc0897a99",
   "metadata": {},
   "source": [
    "Question-7"
   ]
  },
  {
   "cell_type": "code",
   "execution_count": 123,
   "id": "d0851a8b-47a1-4dc1-92af-70cb3fc3d15a",
   "metadata": {},
   "outputs": [],
   "source": [
    "df = pd.DataFrame({'Email': [\"sai@gmail.com\", \"sdfsadf.das@domain.com\", \"sadfsd_sf@example.com\"]})\n",
    "df['Username']=df['Email'].apply(lambda x:x[:x.index(\"@\")])"
   ]
  },
  {
   "cell_type": "code",
   "execution_count": 124,
   "id": "a19f57c3-1b95-4843-870a-212ad3912034",
   "metadata": {},
   "outputs": [
    {
     "data": {
      "text/html": [
       "<div>\n",
       "<style scoped>\n",
       "    .dataframe tbody tr th:only-of-type {\n",
       "        vertical-align: middle;\n",
       "    }\n",
       "\n",
       "    .dataframe tbody tr th {\n",
       "        vertical-align: top;\n",
       "    }\n",
       "\n",
       "    .dataframe thead th {\n",
       "        text-align: right;\n",
       "    }\n",
       "</style>\n",
       "<table border=\"1\" class=\"dataframe\">\n",
       "  <thead>\n",
       "    <tr style=\"text-align: right;\">\n",
       "      <th></th>\n",
       "      <th>Email</th>\n",
       "      <th>Username</th>\n",
       "    </tr>\n",
       "  </thead>\n",
       "  <tbody>\n",
       "    <tr>\n",
       "      <th>0</th>\n",
       "      <td>sai@gmail.com</td>\n",
       "      <td>sai</td>\n",
       "    </tr>\n",
       "    <tr>\n",
       "      <th>1</th>\n",
       "      <td>sdfsadf.das@domain.com</td>\n",
       "      <td>sdfsadf.das</td>\n",
       "    </tr>\n",
       "    <tr>\n",
       "      <th>2</th>\n",
       "      <td>sadfsd_sf@example.com</td>\n",
       "      <td>sadfsd_sf</td>\n",
       "    </tr>\n",
       "  </tbody>\n",
       "</table>\n",
       "</div>"
      ],
      "text/plain": [
       "                    Email     Username\n",
       "0           sai@gmail.com          sai\n",
       "1  sdfsadf.das@domain.com  sdfsadf.das\n",
       "2   sadfsd_sf@example.com    sadfsd_sf"
      ]
     },
     "execution_count": 124,
     "metadata": {},
     "output_type": "execute_result"
    }
   ],
   "source": [
    "df"
   ]
  },
  {
   "cell_type": "code",
   "execution_count": null,
   "id": "cdac22a9-2b6f-45f6-b96f-f401f35b7202",
   "metadata": {},
   "outputs": [],
   "source": []
  },
  {
   "cell_type": "markdown",
   "id": "b5be8958-e1e4-4bdb-bb37-9dcd4804ec12",
   "metadata": {},
   "source": [
    "Question-8"
   ]
  },
  {
   "cell_type": "code",
   "execution_count": 131,
   "id": "555468d4-2375-4b3c-932d-20acacdcf585",
   "metadata": {},
   "outputs": [
    {
     "name": "stdout",
     "output_type": "stream",
     "text": [
      "    A   B   C\n",
      "0  17  14   8\n",
      "1  15   9  13\n",
      "2  16  14  20\n",
      "3   2  17   5\n",
      "4  19  19  10\n",
      "5  19   7  17\n",
      "6   7  16  12\n",
      "7   9  17   1\n",
      "8  16   7   4\n",
      "9  16  18   7\n",
      "    A  B   C\n",
      "1  15  9  13\n",
      "5  19  7  17\n",
      "8  16  7   4\n"
     ]
    }
   ],
   "source": [
    "from random import randint\n",
    "data={\"A\":[],\"B\":[],\"C\":[]}\n",
    "for i in range(10):\n",
    "        data['A'].append(randint(1,20))\n",
    "        data['B'].append(randint(1,20))\n",
    "        data['C'].append(randint(1,20))\n",
    "data=pd.DataFrame(data)\n",
    "print(data)\n",
    "\n",
    "data=data[(data['A']>5) & (data['B']<10)]\n",
    "print(data)\n"
   ]
  },
  {
   "cell_type": "code",
   "execution_count": null,
   "id": "6a1f0169-69fb-4fc5-bd18-0ea7c846df77",
   "metadata": {},
   "outputs": [],
   "source": []
  },
  {
   "cell_type": "markdown",
   "id": "6f2e0602-08fe-48cc-b3ad-c6dad0109139",
   "metadata": {},
   "source": [
    "Question-9"
   ]
  },
  {
   "cell_type": "code",
   "execution_count": 139,
   "id": "e3dc9b02-195d-4d92-b362-f073fd48ee93",
   "metadata": {},
   "outputs": [
    {
     "name": "stdout",
     "output_type": "stream",
     "text": [
      "45.8\n",
      "48.0\n",
      "18.75366630821824\n"
     ]
    }
   ],
   "source": [
    "data=pd.DataFrame()\n",
    "data['Values']=[70,21,35,48,55]\n",
    "\n",
    "print(data['Values'].mean())\n",
    "print(data['Values'].median())\n",
    "print(data['Values'].std())"
   ]
  },
  {
   "cell_type": "code",
   "execution_count": null,
   "id": "b5e1b7f6-9325-474f-8255-3e26e385ec30",
   "metadata": {},
   "outputs": [],
   "source": []
  },
  {
   "cell_type": "markdown",
   "id": "bdce20b3-d6b3-4469-8404-44a261c8a208",
   "metadata": {},
   "source": [
    "Question-10"
   ]
  },
  {
   "cell_type": "code",
   "execution_count": 141,
   "id": "c50cf5b0-a3fa-4ae8-af2b-2f9f4f2d6a9b",
   "metadata": {},
   "outputs": [
    {
     "data": {
      "text/html": [
       "<div>\n",
       "<style scoped>\n",
       "    .dataframe tbody tr th:only-of-type {\n",
       "        vertical-align: middle;\n",
       "    }\n",
       "\n",
       "    .dataframe tbody tr th {\n",
       "        vertical-align: top;\n",
       "    }\n",
       "\n",
       "    .dataframe thead th {\n",
       "        text-align: right;\n",
       "    }\n",
       "</style>\n",
       "<table border=\"1\" class=\"dataframe\">\n",
       "  <thead>\n",
       "    <tr style=\"text-align: right;\">\n",
       "      <th></th>\n",
       "      <th>Sales</th>\n",
       "      <th>Date</th>\n",
       "    </tr>\n",
       "  </thead>\n",
       "  <tbody>\n",
       "    <tr>\n",
       "      <th>0</th>\n",
       "      <td>12</td>\n",
       "      <td>10-10-2023</td>\n",
       "    </tr>\n",
       "    <tr>\n",
       "      <th>1</th>\n",
       "      <td>33</td>\n",
       "      <td>11-10-2023</td>\n",
       "    </tr>\n",
       "    <tr>\n",
       "      <th>2</th>\n",
       "      <td>1</td>\n",
       "      <td>12-10-2023</td>\n",
       "    </tr>\n",
       "    <tr>\n",
       "      <th>3</th>\n",
       "      <td>21</td>\n",
       "      <td>13-10-2023</td>\n",
       "    </tr>\n",
       "    <tr>\n",
       "      <th>4</th>\n",
       "      <td>31</td>\n",
       "      <td>14-10-2023</td>\n",
       "    </tr>\n",
       "    <tr>\n",
       "      <th>5</th>\n",
       "      <td>13</td>\n",
       "      <td>15-10-2023</td>\n",
       "    </tr>\n",
       "    <tr>\n",
       "      <th>6</th>\n",
       "      <td>33</td>\n",
       "      <td>16-10-2023</td>\n",
       "    </tr>\n",
       "    <tr>\n",
       "      <th>7</th>\n",
       "      <td>80</td>\n",
       "      <td>17-10-2023</td>\n",
       "    </tr>\n",
       "    <tr>\n",
       "      <th>8</th>\n",
       "      <td>99</td>\n",
       "      <td>18-10-2023</td>\n",
       "    </tr>\n",
       "    <tr>\n",
       "      <th>9</th>\n",
       "      <td>100</td>\n",
       "      <td>19-10-2023</td>\n",
       "    </tr>\n",
       "  </tbody>\n",
       "</table>\n",
       "</div>"
      ],
      "text/plain": [
       "   Sales        Date\n",
       "0     12  10-10-2023\n",
       "1     33  11-10-2023\n",
       "2      1  12-10-2023\n",
       "3     21  13-10-2023\n",
       "4     31  14-10-2023\n",
       "5     13  15-10-2023\n",
       "6     33  16-10-2023\n",
       "7     80  17-10-2023\n",
       "8     99  18-10-2023\n",
       "9    100  19-10-2023"
      ]
     },
     "execution_count": 141,
     "metadata": {},
     "output_type": "execute_result"
    }
   ],
   "source": [
    "import pandas as pd\n",
    "\n",
    "def calculate_moving_average(df):\n",
    "    df['MovingAverage'] = df['Sales'].rolling(window=7, min_periods=1).mean()\n",
    "    return df\n",
    "\n",
    "data={\"Sales\":[12,33,1,21,31,13,33,80,99,100],\"Date\":[\"10-10-2023\",\"11-10-2023\",\"12-10-2023\",\"13-10-2023\",\"14-10-2023\",\"15-10-2023\",\"16-10-2023\",\"17-10-2023\",\"18-10-2023\",\"19-10-2023\"]}\n",
    "data=pd.DataFrame(data)\n",
    "data"
   ]
  },
  {
   "cell_type": "code",
   "execution_count": 142,
   "id": "b6a5f932-0f68-4262-bddf-8b888b0df717",
   "metadata": {},
   "outputs": [
    {
     "data": {
      "text/html": [
       "<div>\n",
       "<style scoped>\n",
       "    .dataframe tbody tr th:only-of-type {\n",
       "        vertical-align: middle;\n",
       "    }\n",
       "\n",
       "    .dataframe tbody tr th {\n",
       "        vertical-align: top;\n",
       "    }\n",
       "\n",
       "    .dataframe thead th {\n",
       "        text-align: right;\n",
       "    }\n",
       "</style>\n",
       "<table border=\"1\" class=\"dataframe\">\n",
       "  <thead>\n",
       "    <tr style=\"text-align: right;\">\n",
       "      <th></th>\n",
       "      <th>Sales</th>\n",
       "      <th>Date</th>\n",
       "      <th>MovingAverage</th>\n",
       "    </tr>\n",
       "  </thead>\n",
       "  <tbody>\n",
       "    <tr>\n",
       "      <th>0</th>\n",
       "      <td>12</td>\n",
       "      <td>10-10-2023</td>\n",
       "      <td>12.000000</td>\n",
       "    </tr>\n",
       "    <tr>\n",
       "      <th>1</th>\n",
       "      <td>33</td>\n",
       "      <td>11-10-2023</td>\n",
       "      <td>22.500000</td>\n",
       "    </tr>\n",
       "    <tr>\n",
       "      <th>2</th>\n",
       "      <td>1</td>\n",
       "      <td>12-10-2023</td>\n",
       "      <td>15.333333</td>\n",
       "    </tr>\n",
       "    <tr>\n",
       "      <th>3</th>\n",
       "      <td>21</td>\n",
       "      <td>13-10-2023</td>\n",
       "      <td>16.750000</td>\n",
       "    </tr>\n",
       "    <tr>\n",
       "      <th>4</th>\n",
       "      <td>31</td>\n",
       "      <td>14-10-2023</td>\n",
       "      <td>19.600000</td>\n",
       "    </tr>\n",
       "    <tr>\n",
       "      <th>5</th>\n",
       "      <td>13</td>\n",
       "      <td>15-10-2023</td>\n",
       "      <td>18.500000</td>\n",
       "    </tr>\n",
       "    <tr>\n",
       "      <th>6</th>\n",
       "      <td>33</td>\n",
       "      <td>16-10-2023</td>\n",
       "      <td>20.571429</td>\n",
       "    </tr>\n",
       "    <tr>\n",
       "      <th>7</th>\n",
       "      <td>80</td>\n",
       "      <td>17-10-2023</td>\n",
       "      <td>30.285714</td>\n",
       "    </tr>\n",
       "    <tr>\n",
       "      <th>8</th>\n",
       "      <td>99</td>\n",
       "      <td>18-10-2023</td>\n",
       "      <td>39.714286</td>\n",
       "    </tr>\n",
       "    <tr>\n",
       "      <th>9</th>\n",
       "      <td>100</td>\n",
       "      <td>19-10-2023</td>\n",
       "      <td>53.857143</td>\n",
       "    </tr>\n",
       "  </tbody>\n",
       "</table>\n",
       "</div>"
      ],
      "text/plain": [
       "   Sales        Date  MovingAverage\n",
       "0     12  10-10-2023      12.000000\n",
       "1     33  11-10-2023      22.500000\n",
       "2      1  12-10-2023      15.333333\n",
       "3     21  13-10-2023      16.750000\n",
       "4     31  14-10-2023      19.600000\n",
       "5     13  15-10-2023      18.500000\n",
       "6     33  16-10-2023      20.571429\n",
       "7     80  17-10-2023      30.285714\n",
       "8     99  18-10-2023      39.714286\n",
       "9    100  19-10-2023      53.857143"
      ]
     },
     "execution_count": 142,
     "metadata": {},
     "output_type": "execute_result"
    }
   ],
   "source": [
    "calculate_moving_average(data)"
   ]
  },
  {
   "cell_type": "code",
   "execution_count": null,
   "id": "3423988b-c069-4eb0-b2d9-237c53af030a",
   "metadata": {},
   "outputs": [],
   "source": []
  },
  {
   "cell_type": "markdown",
   "id": "35b980f8-cfd0-4f07-b7a2-3dc7ce3e5a39",
   "metadata": {},
   "source": [
    "Question-11"
   ]
  },
  {
   "cell_type": "code",
   "execution_count": 143,
   "id": "57c0fe97-90ae-4917-bd16-d2c2d3287a79",
   "metadata": {},
   "outputs": [
    {
     "data": {
      "text/html": [
       "<div>\n",
       "<style scoped>\n",
       "    .dataframe tbody tr th:only-of-type {\n",
       "        vertical-align: middle;\n",
       "    }\n",
       "\n",
       "    .dataframe tbody tr th {\n",
       "        vertical-align: top;\n",
       "    }\n",
       "\n",
       "    .dataframe thead th {\n",
       "        text-align: right;\n",
       "    }\n",
       "</style>\n",
       "<table border=\"1\" class=\"dataframe\">\n",
       "  <thead>\n",
       "    <tr style=\"text-align: right;\">\n",
       "      <th></th>\n",
       "      <th>Date</th>\n",
       "    </tr>\n",
       "  </thead>\n",
       "  <tbody>\n",
       "    <tr>\n",
       "      <th>0</th>\n",
       "      <td>10-10-2023</td>\n",
       "    </tr>\n",
       "    <tr>\n",
       "      <th>1</th>\n",
       "      <td>11-10-2023</td>\n",
       "    </tr>\n",
       "    <tr>\n",
       "      <th>2</th>\n",
       "      <td>12-10-2023</td>\n",
       "    </tr>\n",
       "    <tr>\n",
       "      <th>3</th>\n",
       "      <td>13-10-2023</td>\n",
       "    </tr>\n",
       "    <tr>\n",
       "      <th>4</th>\n",
       "      <td>14-10-2023</td>\n",
       "    </tr>\n",
       "    <tr>\n",
       "      <th>5</th>\n",
       "      <td>15-10-2023</td>\n",
       "    </tr>\n",
       "    <tr>\n",
       "      <th>6</th>\n",
       "      <td>16-10-2023</td>\n",
       "    </tr>\n",
       "    <tr>\n",
       "      <th>7</th>\n",
       "      <td>17-10-2023</td>\n",
       "    </tr>\n",
       "    <tr>\n",
       "      <th>8</th>\n",
       "      <td>18-10-2023</td>\n",
       "    </tr>\n",
       "    <tr>\n",
       "      <th>9</th>\n",
       "      <td>19-10-2023</td>\n",
       "    </tr>\n",
       "  </tbody>\n",
       "</table>\n",
       "</div>"
      ],
      "text/plain": [
       "         Date\n",
       "0  10-10-2023\n",
       "1  11-10-2023\n",
       "2  12-10-2023\n",
       "3  13-10-2023\n",
       "4  14-10-2023\n",
       "5  15-10-2023\n",
       "6  16-10-2023\n",
       "7  17-10-2023\n",
       "8  18-10-2023\n",
       "9  19-10-2023"
      ]
     },
     "execution_count": 143,
     "metadata": {},
     "output_type": "execute_result"
    }
   ],
   "source": [
    "data={\"Date\":[\"10-10-2023\",\"11-10-2023\",\"12-10-2023\",\"13-10-2023\",\"14-10-2023\",\"15-10-2023\",\"16-10-2023\",\"17-10-2023\",\"18-10-2023\",\"19-10-2023\"]}\n",
    "data=pd.DataFrame(data)\n",
    "data"
   ]
  },
  {
   "cell_type": "code",
   "execution_count": 146,
   "id": "664fac97-8209-4b86-b71e-1d9725a5f795",
   "metadata": {},
   "outputs": [
    {
     "data": {
      "text/html": [
       "<div>\n",
       "<style scoped>\n",
       "    .dataframe tbody tr th:only-of-type {\n",
       "        vertical-align: middle;\n",
       "    }\n",
       "\n",
       "    .dataframe tbody tr th {\n",
       "        vertical-align: top;\n",
       "    }\n",
       "\n",
       "    .dataframe thead th {\n",
       "        text-align: right;\n",
       "    }\n",
       "</style>\n",
       "<table border=\"1\" class=\"dataframe\">\n",
       "  <thead>\n",
       "    <tr style=\"text-align: right;\">\n",
       "      <th></th>\n",
       "      <th>Date</th>\n",
       "      <th>Weekday</th>\n",
       "    </tr>\n",
       "  </thead>\n",
       "  <tbody>\n",
       "    <tr>\n",
       "      <th>0</th>\n",
       "      <td>10-10-2023</td>\n",
       "      <td>Tuesday</td>\n",
       "    </tr>\n",
       "    <tr>\n",
       "      <th>1</th>\n",
       "      <td>11-10-2023</td>\n",
       "      <td>Wednesday</td>\n",
       "    </tr>\n",
       "    <tr>\n",
       "      <th>2</th>\n",
       "      <td>12-10-2023</td>\n",
       "      <td>Thursday</td>\n",
       "    </tr>\n",
       "    <tr>\n",
       "      <th>3</th>\n",
       "      <td>13-10-2023</td>\n",
       "      <td>Friday</td>\n",
       "    </tr>\n",
       "    <tr>\n",
       "      <th>4</th>\n",
       "      <td>14-10-2023</td>\n",
       "      <td>Saturday</td>\n",
       "    </tr>\n",
       "    <tr>\n",
       "      <th>5</th>\n",
       "      <td>15-10-2023</td>\n",
       "      <td>Sunday</td>\n",
       "    </tr>\n",
       "    <tr>\n",
       "      <th>6</th>\n",
       "      <td>16-10-2023</td>\n",
       "      <td>Monday</td>\n",
       "    </tr>\n",
       "    <tr>\n",
       "      <th>7</th>\n",
       "      <td>17-10-2023</td>\n",
       "      <td>Tuesday</td>\n",
       "    </tr>\n",
       "    <tr>\n",
       "      <th>8</th>\n",
       "      <td>18-10-2023</td>\n",
       "      <td>Wednesday</td>\n",
       "    </tr>\n",
       "    <tr>\n",
       "      <th>9</th>\n",
       "      <td>19-10-2023</td>\n",
       "      <td>Thursday</td>\n",
       "    </tr>\n",
       "  </tbody>\n",
       "</table>\n",
       "</div>"
      ],
      "text/plain": [
       "         Date    Weekday\n",
       "0  10-10-2023    Tuesday\n",
       "1  11-10-2023  Wednesday\n",
       "2  12-10-2023   Thursday\n",
       "3  13-10-2023     Friday\n",
       "4  14-10-2023   Saturday\n",
       "5  15-10-2023     Sunday\n",
       "6  16-10-2023     Monday\n",
       "7  17-10-2023    Tuesday\n",
       "8  18-10-2023  Wednesday\n",
       "9  19-10-2023   Thursday"
      ]
     },
     "execution_count": 146,
     "metadata": {},
     "output_type": "execute_result"
    }
   ],
   "source": [
    "import datetime\n",
    "import calendar\n",
    "\n",
    "def findDay(date):\n",
    "    born = datetime.datetime.strptime(date, '%d-%m-%Y').weekday()\n",
    "    return (calendar.day_name[born])\n",
    "\n",
    "data['Weekday']=data['Date'].apply(findDay)\n",
    "data"
   ]
  },
  {
   "cell_type": "code",
   "execution_count": null,
   "id": "029a301e-500d-4a69-8a3b-01299379f49f",
   "metadata": {},
   "outputs": [],
   "source": []
  },
  {
   "cell_type": "markdown",
   "id": "9428bf02-f8af-4617-8d27-8a9339301760",
   "metadata": {},
   "source": [
    "Question-12"
   ]
  },
  {
   "cell_type": "code",
   "execution_count": 147,
   "id": "019cbe02-328d-468d-b563-73fc4a633fdc",
   "metadata": {},
   "outputs": [],
   "source": [
    "df = pd.DataFrame({'Date': pd.date_range(start='2022-09-01', end='2023-05-31', periods=10)})"
   ]
  },
  {
   "cell_type": "code",
   "execution_count": 148,
   "id": "a295f8b1-aeb6-4715-af6b-d435afc84643",
   "metadata": {},
   "outputs": [
    {
     "data": {
      "text/html": [
       "<div>\n",
       "<style scoped>\n",
       "    .dataframe tbody tr th:only-of-type {\n",
       "        vertical-align: middle;\n",
       "    }\n",
       "\n",
       "    .dataframe tbody tr th {\n",
       "        vertical-align: top;\n",
       "    }\n",
       "\n",
       "    .dataframe thead th {\n",
       "        text-align: right;\n",
       "    }\n",
       "</style>\n",
       "<table border=\"1\" class=\"dataframe\">\n",
       "  <thead>\n",
       "    <tr style=\"text-align: right;\">\n",
       "      <th></th>\n",
       "      <th>Date</th>\n",
       "    </tr>\n",
       "  </thead>\n",
       "  <tbody>\n",
       "    <tr>\n",
       "      <th>0</th>\n",
       "      <td>2022-09-01 00:00:00</td>\n",
       "    </tr>\n",
       "    <tr>\n",
       "      <th>1</th>\n",
       "      <td>2022-10-01 05:20:00</td>\n",
       "    </tr>\n",
       "    <tr>\n",
       "      <th>2</th>\n",
       "      <td>2022-10-31 10:40:00</td>\n",
       "    </tr>\n",
       "    <tr>\n",
       "      <th>3</th>\n",
       "      <td>2022-11-30 16:00:00</td>\n",
       "    </tr>\n",
       "    <tr>\n",
       "      <th>4</th>\n",
       "      <td>2022-12-30 21:20:00</td>\n",
       "    </tr>\n",
       "    <tr>\n",
       "      <th>5</th>\n",
       "      <td>2023-01-30 02:40:00</td>\n",
       "    </tr>\n",
       "    <tr>\n",
       "      <th>6</th>\n",
       "      <td>2023-03-01 08:00:00</td>\n",
       "    </tr>\n",
       "    <tr>\n",
       "      <th>7</th>\n",
       "      <td>2023-03-31 13:20:00</td>\n",
       "    </tr>\n",
       "    <tr>\n",
       "      <th>8</th>\n",
       "      <td>2023-04-30 18:40:00</td>\n",
       "    </tr>\n",
       "    <tr>\n",
       "      <th>9</th>\n",
       "      <td>2023-05-31 00:00:00</td>\n",
       "    </tr>\n",
       "  </tbody>\n",
       "</table>\n",
       "</div>"
      ],
      "text/plain": [
       "                 Date\n",
       "0 2022-09-01 00:00:00\n",
       "1 2022-10-01 05:20:00\n",
       "2 2022-10-31 10:40:00\n",
       "3 2022-11-30 16:00:00\n",
       "4 2022-12-30 21:20:00\n",
       "5 2023-01-30 02:40:00\n",
       "6 2023-03-01 08:00:00\n",
       "7 2023-03-31 13:20:00\n",
       "8 2023-04-30 18:40:00\n",
       "9 2023-05-31 00:00:00"
      ]
     },
     "execution_count": 148,
     "metadata": {},
     "output_type": "execute_result"
    }
   ],
   "source": [
    "df"
   ]
  },
  {
   "cell_type": "code",
   "execution_count": 149,
   "id": "18324286-be87-42e9-bbcc-e67d70ca2709",
   "metadata": {},
   "outputs": [
    {
     "data": {
      "text/html": [
       "<div>\n",
       "<style scoped>\n",
       "    .dataframe tbody tr th:only-of-type {\n",
       "        vertical-align: middle;\n",
       "    }\n",
       "\n",
       "    .dataframe tbody tr th {\n",
       "        vertical-align: top;\n",
       "    }\n",
       "\n",
       "    .dataframe thead th {\n",
       "        text-align: right;\n",
       "    }\n",
       "</style>\n",
       "<table border=\"1\" class=\"dataframe\">\n",
       "  <thead>\n",
       "    <tr style=\"text-align: right;\">\n",
       "      <th></th>\n",
       "      <th>Date</th>\n",
       "    </tr>\n",
       "  </thead>\n",
       "  <tbody>\n",
       "    <tr>\n",
       "      <th>5</th>\n",
       "      <td>2023-01-30 02:40:00</td>\n",
       "    </tr>\n",
       "  </tbody>\n",
       "</table>\n",
       "</div>"
      ],
      "text/plain": [
       "                 Date\n",
       "5 2023-01-30 02:40:00"
      ]
     },
     "execution_count": 149,
     "metadata": {},
     "output_type": "execute_result"
    }
   ],
   "source": [
    "df[(df['Date']>='2023-01-01') & (df['Date']<='2023-01-31')]"
   ]
  },
  {
   "cell_type": "code",
   "execution_count": null,
   "id": "309d48af-099c-440e-9234-c6f7dd8f0f11",
   "metadata": {},
   "outputs": [],
   "source": []
  },
  {
   "cell_type": "markdown",
   "id": "10832371-6ff4-450e-9745-7aff5da2542f",
   "metadata": {},
   "source": [
    "Question-13"
   ]
  },
  {
   "cell_type": "code",
   "execution_count": 150,
   "id": "0cef1c47-b9b8-4bc1-819e-39568dd4fde2",
   "metadata": {},
   "outputs": [],
   "source": [
    "import pandas as pd\n"
   ]
  },
  {
   "cell_type": "code",
   "execution_count": null,
   "id": "7e14b61e-a0e8-4393-902d-6937340dff95",
   "metadata": {},
   "outputs": [],
   "source": []
  }
 ],
 "metadata": {
  "kernelspec": {
   "display_name": "Python 3 (ipykernel)",
   "language": "python",
   "name": "python3"
  },
  "language_info": {
   "codemirror_mode": {
    "name": "ipython",
    "version": 3
   },
   "file_extension": ".py",
   "mimetype": "text/x-python",
   "name": "python",
   "nbconvert_exporter": "python",
   "pygments_lexer": "ipython3",
   "version": "3.10.8"
  }
 },
 "nbformat": 4,
 "nbformat_minor": 5
}
