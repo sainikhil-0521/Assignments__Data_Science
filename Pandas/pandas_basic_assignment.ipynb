{
 "cells": [
  {
   "cell_type": "markdown",
   "id": "492b1e1c-7a6a-4ec3-a628-fa5fe4c56358",
   "metadata": {},
   "source": [
    "Question-1"
   ]
  },
  {
   "cell_type": "code",
   "execution_count": 1,
   "id": "7da25d94-b616-44aa-a513-4a8f214d13c3",
   "metadata": {},
   "outputs": [],
   "source": [
    "import pandas as pd"
   ]
  },
  {
   "cell_type": "code",
   "execution_count": 2,
   "id": "5160ece2-d0d2-4f2a-97b2-6b25827f1058",
   "metadata": {},
   "outputs": [],
   "source": [
    "ds=pd.Series([4,8,15,16,23,42])"
   ]
  },
  {
   "cell_type": "code",
   "execution_count": 3,
   "id": "f375286b-1767-421a-b4ad-de9cf136290e",
   "metadata": {},
   "outputs": [
    {
     "data": {
      "text/plain": [
       "0     4\n",
       "1     8\n",
       "2    15\n",
       "3    16\n",
       "4    23\n",
       "5    42\n",
       "dtype: int64"
      ]
     },
     "execution_count": 3,
     "metadata": {},
     "output_type": "execute_result"
    }
   ],
   "source": [
    "ds"
   ]
  },
  {
   "cell_type": "code",
   "execution_count": 4,
   "id": "f113801f-6e52-4b0e-be37-72363c43c38f",
   "metadata": {},
   "outputs": [
    {
     "data": {
      "text/plain": [
       "pandas.core.series.Series"
      ]
     },
     "execution_count": 4,
     "metadata": {},
     "output_type": "execute_result"
    }
   ],
   "source": [
    "type(ds)"
   ]
  },
  {
   "cell_type": "code",
   "execution_count": null,
   "id": "9cd5bc85-5294-4a1b-bd8d-ce0ee19cabfe",
   "metadata": {},
   "outputs": [],
   "source": []
  },
  {
   "cell_type": "markdown",
   "id": "5d8c0bb2-b412-4d81-9e53-50908494c905",
   "metadata": {},
   "source": [
    "Question-2"
   ]
  },
  {
   "cell_type": "code",
   "execution_count": 17,
   "id": "28b66756-ce05-407a-a862-a9e7998b0c96",
   "metadata": {},
   "outputs": [
    {
     "data": {
      "text/html": [
       "<div>\n",
       "<style scoped>\n",
       "    .dataframe tbody tr th:only-of-type {\n",
       "        vertical-align: middle;\n",
       "    }\n",
       "\n",
       "    .dataframe tbody tr th {\n",
       "        vertical-align: top;\n",
       "    }\n",
       "\n",
       "    .dataframe thead th {\n",
       "        text-align: right;\n",
       "    }\n",
       "</style>\n",
       "<table border=\"1\" class=\"dataframe\">\n",
       "  <thead>\n",
       "    <tr style=\"text-align: right;\">\n",
       "      <th></th>\n",
       "      <th>roll</th>\n",
       "      <th>value</th>\n",
       "    </tr>\n",
       "  </thead>\n",
       "  <tbody>\n",
       "    <tr>\n",
       "      <th>0</th>\n",
       "      <td>1</td>\n",
       "      <td>1</td>\n",
       "    </tr>\n",
       "    <tr>\n",
       "      <th>1</th>\n",
       "      <td>2</td>\n",
       "      <td>4</td>\n",
       "    </tr>\n",
       "    <tr>\n",
       "      <th>2</th>\n",
       "      <td>3</td>\n",
       "      <td>9</td>\n",
       "    </tr>\n",
       "    <tr>\n",
       "      <th>3</th>\n",
       "      <td>4</td>\n",
       "      <td>16</td>\n",
       "    </tr>\n",
       "    <tr>\n",
       "      <th>4</th>\n",
       "      <td>5</td>\n",
       "      <td>25</td>\n",
       "    </tr>\n",
       "    <tr>\n",
       "      <th>5</th>\n",
       "      <td>6</td>\n",
       "      <td>36</td>\n",
       "    </tr>\n",
       "    <tr>\n",
       "      <th>6</th>\n",
       "      <td>7</td>\n",
       "      <td>49</td>\n",
       "    </tr>\n",
       "    <tr>\n",
       "      <th>7</th>\n",
       "      <td>8</td>\n",
       "      <td>64</td>\n",
       "    </tr>\n",
       "    <tr>\n",
       "      <th>8</th>\n",
       "      <td>9</td>\n",
       "      <td>81</td>\n",
       "    </tr>\n",
       "    <tr>\n",
       "      <th>9</th>\n",
       "      <td>10</td>\n",
       "      <td>100</td>\n",
       "    </tr>\n",
       "  </tbody>\n",
       "</table>\n",
       "</div>"
      ],
      "text/plain": [
       "   roll  value\n",
       "0     1      1\n",
       "1     2      4\n",
       "2     3      9\n",
       "3     4     16\n",
       "4     5     25\n",
       "5     6     36\n",
       "6     7     49\n",
       "7     8     64\n",
       "8     9     81\n",
       "9    10    100"
      ]
     },
     "execution_count": 17,
     "metadata": {},
     "output_type": "execute_result"
    }
   ],
   "source": [
    "li=[]\n",
    "for i in range(1,11):\n",
    "    li.append([i,i*i])\n",
    "df=pd.DataFrame(li,columns=[\"roll\",\"value\"])\n",
    "ds=pd.Series([i for i in range(10)])\n",
    "df"
   ]
  },
  {
   "cell_type": "code",
   "execution_count": 15,
   "id": "dc2cbea6-ca22-4ce6-b123-050218b1f43c",
   "metadata": {},
   "outputs": [
    {
     "data": {
      "text/html": [
       "<div>\n",
       "<style scoped>\n",
       "    .dataframe tbody tr th:only-of-type {\n",
       "        vertical-align: middle;\n",
       "    }\n",
       "\n",
       "    .dataframe tbody tr th {\n",
       "        vertical-align: top;\n",
       "    }\n",
       "\n",
       "    .dataframe thead th {\n",
       "        text-align: right;\n",
       "    }\n",
       "</style>\n",
       "<table border=\"1\" class=\"dataframe\">\n",
       "  <thead>\n",
       "    <tr style=\"text-align: right;\">\n",
       "      <th></th>\n",
       "      <th>roll</th>\n",
       "      <th>value</th>\n",
       "    </tr>\n",
       "  </thead>\n",
       "  <tbody>\n",
       "    <tr>\n",
       "      <th>0</th>\n",
       "      <td>1</td>\n",
       "      <td>1</td>\n",
       "    </tr>\n",
       "    <tr>\n",
       "      <th>1</th>\n",
       "      <td>2</td>\n",
       "      <td>4</td>\n",
       "    </tr>\n",
       "  </tbody>\n",
       "</table>\n",
       "</div>"
      ],
      "text/plain": [
       "   roll  value\n",
       "0     1      1\n",
       "1     2      4"
      ]
     },
     "execution_count": 15,
     "metadata": {},
     "output_type": "execute_result"
    }
   ],
   "source": [
    "df.head(2)"
   ]
  },
  {
   "cell_type": "code",
   "execution_count": 16,
   "id": "13717c85-9b00-4c92-92e8-2b12ca9bec44",
   "metadata": {},
   "outputs": [
    {
     "data": {
      "text/html": [
       "<div>\n",
       "<style scoped>\n",
       "    .dataframe tbody tr th:only-of-type {\n",
       "        vertical-align: middle;\n",
       "    }\n",
       "\n",
       "    .dataframe tbody tr th {\n",
       "        vertical-align: top;\n",
       "    }\n",
       "\n",
       "    .dataframe thead th {\n",
       "        text-align: right;\n",
       "    }\n",
       "</style>\n",
       "<table border=\"1\" class=\"dataframe\">\n",
       "  <thead>\n",
       "    <tr style=\"text-align: right;\">\n",
       "      <th></th>\n",
       "      <th>roll</th>\n",
       "      <th>value</th>\n",
       "    </tr>\n",
       "  </thead>\n",
       "  <tbody>\n",
       "    <tr>\n",
       "      <th>7</th>\n",
       "      <td>8</td>\n",
       "      <td>64</td>\n",
       "    </tr>\n",
       "    <tr>\n",
       "      <th>8</th>\n",
       "      <td>9</td>\n",
       "      <td>81</td>\n",
       "    </tr>\n",
       "    <tr>\n",
       "      <th>9</th>\n",
       "      <td>10</td>\n",
       "      <td>100</td>\n",
       "    </tr>\n",
       "  </tbody>\n",
       "</table>\n",
       "</div>"
      ],
      "text/plain": [
       "   roll  value\n",
       "7     8     64\n",
       "8     9     81\n",
       "9    10    100"
      ]
     },
     "execution_count": 16,
     "metadata": {},
     "output_type": "execute_result"
    }
   ],
   "source": [
    "df.tail(3)"
   ]
  },
  {
   "cell_type": "code",
   "execution_count": 19,
   "id": "7831c94e-39df-4dd8-95e7-74f10c7f03be",
   "metadata": {},
   "outputs": [
    {
     "data": {
      "text/plain": [
       "0    0\n",
       "1    1\n",
       "dtype: int64"
      ]
     },
     "execution_count": 19,
     "metadata": {},
     "output_type": "execute_result"
    }
   ],
   "source": [
    "ds.head(2)"
   ]
  },
  {
   "cell_type": "code",
   "execution_count": 20,
   "id": "fb540384-a488-4461-a365-f868a3ea29cb",
   "metadata": {},
   "outputs": [
    {
     "data": {
      "text/plain": [
       "2"
      ]
     },
     "execution_count": 20,
     "metadata": {},
     "output_type": "execute_result"
    }
   ],
   "source": [
    "ds[2]"
   ]
  },
  {
   "cell_type": "code",
   "execution_count": null,
   "id": "3cb4d30e-ea71-4e45-ab51-dab5fab2d74f",
   "metadata": {},
   "outputs": [],
   "source": []
  },
  {
   "cell_type": "markdown",
   "id": "8352d287-b981-491f-bf65-8f70dc131cc9",
   "metadata": {},
   "source": [
    "Question-3"
   ]
  },
  {
   "cell_type": "code",
   "execution_count": 21,
   "id": "f6cadfb3-60da-4f00-a7f7-f1668b270cb2",
   "metadata": {},
   "outputs": [],
   "source": [
    "df=pd.DataFrame([[\"Alice\",25,\"Female\"],[\"Bob\",30,\"Male\"],[\"Claire\",27,\"Female\"]],columns=[\"Name\",\"Age\",\"Gender\"])"
   ]
  },
  {
   "cell_type": "code",
   "execution_count": 22,
   "id": "417b7aaa-5999-45a2-9ec1-4365b0ebb50b",
   "metadata": {},
   "outputs": [
    {
     "data": {
      "text/html": [
       "<div>\n",
       "<style scoped>\n",
       "    .dataframe tbody tr th:only-of-type {\n",
       "        vertical-align: middle;\n",
       "    }\n",
       "\n",
       "    .dataframe tbody tr th {\n",
       "        vertical-align: top;\n",
       "    }\n",
       "\n",
       "    .dataframe thead th {\n",
       "        text-align: right;\n",
       "    }\n",
       "</style>\n",
       "<table border=\"1\" class=\"dataframe\">\n",
       "  <thead>\n",
       "    <tr style=\"text-align: right;\">\n",
       "      <th></th>\n",
       "      <th>Name</th>\n",
       "      <th>Age</th>\n",
       "      <th>Gender</th>\n",
       "    </tr>\n",
       "  </thead>\n",
       "  <tbody>\n",
       "    <tr>\n",
       "      <th>0</th>\n",
       "      <td>Alice</td>\n",
       "      <td>25</td>\n",
       "      <td>Female</td>\n",
       "    </tr>\n",
       "    <tr>\n",
       "      <th>1</th>\n",
       "      <td>Bob</td>\n",
       "      <td>30</td>\n",
       "      <td>Male</td>\n",
       "    </tr>\n",
       "    <tr>\n",
       "      <th>2</th>\n",
       "      <td>Claire</td>\n",
       "      <td>27</td>\n",
       "      <td>Female</td>\n",
       "    </tr>\n",
       "  </tbody>\n",
       "</table>\n",
       "</div>"
      ],
      "text/plain": [
       "     Name  Age  Gender\n",
       "0   Alice   25  Female\n",
       "1     Bob   30    Male\n",
       "2  Claire   27  Female"
      ]
     },
     "execution_count": 22,
     "metadata": {},
     "output_type": "execute_result"
    }
   ],
   "source": [
    "df"
   ]
  },
  {
   "cell_type": "code",
   "execution_count": null,
   "id": "ac4e6367-4e53-4b53-ad1a-f798ab73fe78",
   "metadata": {},
   "outputs": [],
   "source": []
  },
  {
   "cell_type": "markdown",
   "id": "e327a7f1-eaa1-44d2-ae6b-d2402fcd0220",
   "metadata": {},
   "source": [
    "Question-4"
   ]
  },
  {
   "cell_type": "markdown",
   "id": "8a08eacd-0021-4c0e-a279-cb1952efc907",
   "metadata": {},
   "source": [
    "\n",
    "In pandas, a DataFrame is a two-dimensional labeled data structure that can store data of different types (numeric, string, boolean, etc.) in a tabular form. It is one of the primary data structures in pandas and is similar to a table in a relational database or a spreadsheet in Excel. A DataFrame consists of rows and columns, where each column can have a different data type.\n",
    "\n",
    "On the other hand, a pandas Series is a one-dimensional labeled array that can store data of a single data type. It is similar to a column in a DataFrame or a single column of data in a spreadsheet. A Series has an associated index, which provides labels for each element in the array."
   ]
  },
  {
   "cell_type": "markdown",
   "id": "225bac2e-06e4-4cb0-b99f-4e4ae9e5d8a8",
   "metadata": {},
   "source": [
    "The DataFrame provides a tabular structure where we can access and manipulate data in a row-wise or column-wise manner. It allows us to perform operations on the entire dataset, such as filtering rows, selecting specific columns, or applying mathematical operations across columns.\n",
    "\n",
    "On the other hand, the Series represents a single column of data with its associated index. It is useful when we need to work with data in a one-dimensional manner or perform operations on a specific column."
   ]
  },
  {
   "cell_type": "code",
   "execution_count": 23,
   "id": "662cc528-9818-4e61-a03d-02edab88257d",
   "metadata": {},
   "outputs": [
    {
     "name": "stdout",
     "output_type": "stream",
     "text": [
      "DataFrame:\n",
      "   Name  Age Country\n",
      "0  John   25     USA\n",
      "1  Emma   28      UK\n",
      "2  Mike   32  Canada\n",
      "\n",
      "Series:\n",
      "0    25\n",
      "1    28\n",
      "2    32\n",
      "Name: Age, dtype: int64\n"
     ]
    }
   ],
   "source": [
    "import pandas as pd\n",
    "\n",
    "# Creating a DataFrame\n",
    "data = {'Name': ['John', 'Emma', 'Mike'],\n",
    "        'Age': [25, 28, 32],\n",
    "        'Country': ['USA', 'UK', 'Canada']}\n",
    "df = pd.DataFrame(data)\n",
    "\n",
    "# Creating a Series\n",
    "ages = pd.Series([25, 28, 32], name='Age')\n",
    "\n",
    "print(\"DataFrame:\")\n",
    "print(df)\n",
    "print(\"\\nSeries:\")\n",
    "print(ages)\n"
   ]
  },
  {
   "cell_type": "code",
   "execution_count": null,
   "id": "affcab4c-5b7b-4a07-a6d4-a8de17873950",
   "metadata": {},
   "outputs": [],
   "source": []
  },
  {
   "cell_type": "markdown",
   "id": "61004355-3e6d-4786-844e-6aef98dabf99",
   "metadata": {},
   "source": [
    "Question-5"
   ]
  },
  {
   "cell_type": "markdown",
   "id": "e7db6e10-dc39-40c4-aa92-2c64aec3209c",
   "metadata": {},
   "source": [
    "Pandas provides a wide range of functions to manipulate data in a DataFrame. Here are some common functions you can use:\n",
    "\n",
    "head() and tail(): These functions allow you to view the first few rows (head()) or last few rows (tail()) of a DataFrame. They are useful for quickly inspecting the data.\n",
    "\n",
    "info(): This function provides a summary of the DataFrame, including the data types of each column, the number of non-null values, and memory usage. It helps in understanding the structure of the DataFrame and identifying any missing or inconsistent data.\n",
    "\n",
    "describe(): It generates descriptive statistics of the numerical columns in the DataFrame, such as count, mean, standard deviation, minimum value, and quartile values. It gives an overview of the distribution and basic statistics of the data.\n",
    "\n",
    "shape: It returns a tuple representing the dimensions of the DataFrame, i.e., the number of rows and columns. It's useful to quickly check the size of the DataFrame.\n",
    "\n",
    "isnull() and notnull(): These functions return a Boolean DataFrame indicating missing values (isnull()) or non-missing values (notnull()) in the DataFrame. They help identify and handle missing data.\n",
    "\n",
    "fillna(): This function is used to fill missing values in a DataFrame with a specified value or a calculated value (e.g., mean, median). It helps in handling missing data before analysis or modeling.\n",
    "\n",
    "dropna(): It is used to drop rows or columns with missing values from the DataFrame. It helps in removing incomplete or irrelevant data from the analysis.\n",
    "\n",
    "sort_values(): This function sorts the DataFrame by one or more columns in ascending or descending order. It is helpful for arranging data based on a specific criterion, such as sorting by date or sorting by a numerical column.\n",
    "\n",
    "groupby(): It is used to group the data in the DataFrame based on one or more columns. It allows you to perform operations on grouped data, such as calculating aggregate statistics or applying custom functions.\n",
    "\n",
    "merge() and concat(): These functions are used to combine multiple DataFrames based on common columns (merge()) or concatenate DataFrames along a particular axis (concat()). They are useful for combining data from different sources or splitting and reassembling data."
   ]
  },
  {
   "cell_type": "code",
   "execution_count": null,
   "id": "cf5c5f3a-673b-4c17-a81b-cdbe5ed329ed",
   "metadata": {},
   "outputs": [],
   "source": []
  },
  {
   "cell_type": "markdown",
   "id": "04b8f119-02c4-4a3d-9a57-4bf3acbe8a0b",
   "metadata": {},
   "source": [
    "Question-6"
   ]
  },
  {
   "cell_type": "markdown",
   "id": "3cca9b6a-d92d-490f-9745-725b3a42e505",
   "metadata": {},
   "source": [
    "Among the options mentioned, both Series and DataFrame in pandas are mutable in nature, while Panel is immutable."
   ]
  },
  {
   "cell_type": "code",
   "execution_count": null,
   "id": "0e09ba6c-5623-4787-b1ab-6624d0cb96dc",
   "metadata": {},
   "outputs": [],
   "source": []
  },
  {
   "cell_type": "markdown",
   "id": "4a7e6d81-c66b-4605-8e10-c9b4aa2319f7",
   "metadata": {},
   "source": [
    "Question-7"
   ]
  },
  {
   "cell_type": "code",
   "execution_count": 25,
   "id": "31838e89-8efc-4d75-898c-7b66d16f0646",
   "metadata": {},
   "outputs": [
    {
     "data": {
      "text/html": [
       "<div>\n",
       "<style scoped>\n",
       "    .dataframe tbody tr th:only-of-type {\n",
       "        vertical-align: middle;\n",
       "    }\n",
       "\n",
       "    .dataframe tbody tr th {\n",
       "        vertical-align: top;\n",
       "    }\n",
       "\n",
       "    .dataframe thead th {\n",
       "        text-align: right;\n",
       "    }\n",
       "</style>\n",
       "<table border=\"1\" class=\"dataframe\">\n",
       "  <thead>\n",
       "    <tr style=\"text-align: right;\">\n",
       "      <th></th>\n",
       "      <th>Name</th>\n",
       "      <th>Age</th>\n",
       "      <th>Country</th>\n",
       "    </tr>\n",
       "  </thead>\n",
       "  <tbody>\n",
       "    <tr>\n",
       "      <th>0</th>\n",
       "      <td>John</td>\n",
       "      <td>25</td>\n",
       "      <td>USA</td>\n",
       "    </tr>\n",
       "    <tr>\n",
       "      <th>1</th>\n",
       "      <td>Emma</td>\n",
       "      <td>28</td>\n",
       "      <td>UK</td>\n",
       "    </tr>\n",
       "    <tr>\n",
       "      <th>2</th>\n",
       "      <td>Mike</td>\n",
       "      <td>32</td>\n",
       "      <td>Canada</td>\n",
       "    </tr>\n",
       "  </tbody>\n",
       "</table>\n",
       "</div>"
      ],
      "text/plain": [
       "   Name  Age Country\n",
       "0  John   25     USA\n",
       "1  Emma   28      UK\n",
       "2  Mike   32  Canada"
      ]
     },
     "execution_count": 25,
     "metadata": {},
     "output_type": "execute_result"
    }
   ],
   "source": [
    "import pandas as pd\n",
    "\n",
    "# Creating Series\n",
    "names = pd.Series(['John', 'Emma', 'Mike'])\n",
    "ages = pd.Series([25, 28, 32])\n",
    "countries = pd.Series(['USA', 'UK', 'Canada'])\n",
    "\n",
    "# Creating DataFrame using the Series\n",
    "data = {'Name': names, 'Age': ages, 'Country': countries}\n",
    "df = pd.DataFrame(data)\n",
    "\n",
    "df\n"
   ]
  },
  {
   "cell_type": "code",
   "execution_count": null,
   "id": "a9ecef3c-f6de-4e6b-9601-1eaadbaae300",
   "metadata": {},
   "outputs": [],
   "source": []
  }
 ],
 "metadata": {
  "kernelspec": {
   "display_name": "Python 3 (ipykernel)",
   "language": "python",
   "name": "python3"
  },
  "language_info": {
   "codemirror_mode": {
    "name": "ipython",
    "version": 3
   },
   "file_extension": ".py",
   "mimetype": "text/x-python",
   "name": "python",
   "nbconvert_exporter": "python",
   "pygments_lexer": "ipython3",
   "version": "3.10.8"
  }
 },
 "nbformat": 4,
 "nbformat_minor": 5
}
