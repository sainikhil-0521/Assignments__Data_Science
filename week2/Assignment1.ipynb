{
 "cells": [
  {
   "cell_type": "markdown",
   "id": "3ee3d421-7f78-4ca0-87b9-7692ddf337ff",
   "metadata": {},
   "source": [
    "Question-1"
   ]
  },
  {
   "cell_type": "markdown",
   "id": "a04b8f77-569a-4810-b905-322ea77d91b1",
   "metadata": {},
   "source": [
    "Two ways: <br>\n",
    "    1:Single-line comments <br>\n",
    "    # This is a single-line comment <br>\n",
    "    2:Multi-line comments <br>\n",
    "    \"\"\" <br>\n",
    "    This is a multi-line comment. <br>\n",
    "    It can span multiple lines without using the hash symbol on each line. <br>\n",
    "    \"\"\" <br>"
   ]
  },
  {
   "cell_type": "markdown",
   "id": "b9556fab-a7d6-447f-b096-8f089a0cc062",
   "metadata": {},
   "source": [
    "Question-2"
   ]
  },
  {
   "cell_type": "markdown",
   "id": "bd71eed4-abf8-4246-bfcb-72ac11de8641",
   "metadata": {},
   "source": [
    "In Python, variables are used to store and manipulate data. A variable is essentially a name or identifier that represents a value stored in the computer's memory."
   ]
  },
  {
   "cell_type": "code",
   "execution_count": 2,
   "id": "d8051ea0-8277-409a-88ab-3bd9c760cbd4",
   "metadata": {},
   "outputs": [],
   "source": [
    "name = \"John\"\n",
    "age = 25"
   ]
  },
  {
   "cell_type": "code",
   "execution_count": null,
   "id": "ce0f5aa2-0f67-4e81-8481-9ca2bdf88cf3",
   "metadata": {},
   "outputs": [],
   "source": []
  },
  {
   "cell_type": "markdown",
   "id": "769685d7-4412-47c6-b49c-4bc9c82b7f9a",
   "metadata": {},
   "source": [
    "Question-3"
   ]
  },
  {
   "cell_type": "markdown",
   "id": "c6c3ccaa-7687-4973-9937-846b3aa31835",
   "metadata": {},
   "source": [
    "Implicit Type Conversion:implicit type conversion automatically in certain situations when it's safe to do so.\n"
   ]
  },
  {
   "cell_type": "code",
   "execution_count": 3,
   "id": "b95cfb84-a6c2-43fd-b546-cf62eea83b85",
   "metadata": {},
   "outputs": [
    {
     "name": "stdout",
     "output_type": "stream",
     "text": [
      "14.5\n"
     ]
    }
   ],
   "source": [
    "x = 10\n",
    "y = 4.5\n",
    "\n",
    "result = x + y\n",
    "\n",
    "print(result)"
   ]
  },
  {
   "cell_type": "markdown",
   "id": "bb319dc0-38e9-4e9c-a0a8-5042323ac491",
   "metadata": {},
   "source": [
    "Explicit Type Conversion: manually convert one data type to another using specific functions or methods"
   ]
  },
  {
   "cell_type": "code",
   "execution_count": 4,
   "id": "4836f012-8d69-4a68-b838-e0234a6662af",
   "metadata": {},
   "outputs": [
    {
     "name": "stdout",
     "output_type": "stream",
     "text": [
      "10\n"
     ]
    }
   ],
   "source": [
    "x = 10.5\n",
    "y = int(x)\n",
    "print(y)  "
   ]
  },
  {
   "cell_type": "code",
   "execution_count": null,
   "id": "24b64f03-f1b6-4bc3-b610-096d30d782e1",
   "metadata": {},
   "outputs": [],
   "source": []
  },
  {
   "cell_type": "markdown",
   "id": "80ebe860-9e40-42f1-aecb-a9ff147ef141",
   "metadata": {},
   "source": [
    "Question-4"
   ]
  },
  {
   "cell_type": "markdown",
   "id": "53a90e96-e0dd-416f-b378-d009e8982e4d",
   "metadata": {},
   "source": [
    "1. Create a Python script  file with a .py extension. <br>\n",
    "2.Write Python code and save it <br>\n",
    "3.Open the command line and Navigate to the script's directory <br>\n",
    "4.run this command <b>python filename.py</b> <br>\n"
   ]
  },
  {
   "cell_type": "markdown",
   "id": "45873b11-390e-411e-8a57-a03f6ff79bfa",
   "metadata": {},
   "source": [
    "Question-5"
   ]
  },
  {
   "cell_type": "code",
   "execution_count": 6,
   "id": "112de7e8-e25b-4578-bc3e-f2f3561e8916",
   "metadata": {},
   "outputs": [
    {
     "name": "stdout",
     "output_type": "stream",
     "text": [
      "[2, 3]\n"
     ]
    }
   ],
   "source": [
    "my_list = [1, 2, 3, 4, 5]\n",
    "sub_list = my_list[1:3]\n",
    "\n",
    "print(sub_list)\n"
   ]
  },
  {
   "cell_type": "markdown",
   "id": "d7b7cba4-686f-4001-82a1-f36e87a32205",
   "metadata": {},
   "source": [
    "Question-6"
   ]
  },
  {
   "cell_type": "markdown",
   "id": "81ae719a-96b3-4b64-9eba-acc146359593",
   "metadata": {},
   "source": [
    "In mathematics, a complex number is a number that can be expressed in the form a + bi, where a and b are real numbers, and i is the imaginary unit defined as the square root of -1. The real part a represents the real portion of the complex number, and the imaginary part b represents the imaginary portion. <br>\n",
    "<br>\n",
    "In Python, complex numbers are supported as a built-in data type. They can be represented using the syntax a + bj, where a and b are real numbers, and j or J represents the imaginary unit.<br>\n"
   ]
  },
  {
   "cell_type": "code",
   "execution_count": 8,
   "id": "b3ea3a6b-e887-481e-b0f6-996c6f0663fb",
   "metadata": {},
   "outputs": [
    {
     "name": "stdout",
     "output_type": "stream",
     "text": [
      "<class 'complex'> <class 'complex'>\n"
     ]
    }
   ],
   "source": [
    "z1 = 3 + 2j\n",
    "z2 = -1 + 4j\n",
    "print(type(z1),type(z2))"
   ]
  },
  {
   "cell_type": "code",
   "execution_count": null,
   "id": "70f43ba0-ad1b-4947-b538-b5ca9d029b95",
   "metadata": {},
   "outputs": [],
   "source": []
  },
  {
   "cell_type": "markdown",
   "id": "864cf99e-d0ec-473b-ae4c-836e6c65feee",
   "metadata": {},
   "source": [
    "Question-7"
   ]
  },
  {
   "cell_type": "code",
   "execution_count": 9,
   "id": "37be87ac-d412-4697-a6d1-636ce510b1dd",
   "metadata": {},
   "outputs": [],
   "source": [
    "age = 25\n"
   ]
  },
  {
   "cell_type": "code",
   "execution_count": null,
   "id": "543bc715-f8f1-4d6f-a29b-537ad3fdc4f4",
   "metadata": {},
   "outputs": [],
   "source": []
  },
  {
   "cell_type": "markdown",
   "id": "906185b8-3a7e-4dd4-b96c-7f0049d8184b",
   "metadata": {},
   "source": [
    "Question-8"
   ]
  },
  {
   "cell_type": "code",
   "execution_count": 10,
   "id": "2d48e060-8b98-4a84-b500-411fc6bb6d97",
   "metadata": {},
   "outputs": [],
   "source": [
    "price = 9.99"
   ]
  },
  {
   "cell_type": "code",
   "execution_count": 11,
   "id": "b646a49f-b149-4ab8-bc42-5725cbeb0cda",
   "metadata": {},
   "outputs": [
    {
     "data": {
      "text/plain": [
       "float"
      ]
     },
     "execution_count": 11,
     "metadata": {},
     "output_type": "execute_result"
    }
   ],
   "source": [
    "type(price)"
   ]
  },
  {
   "cell_type": "markdown",
   "id": "68d55ea7-f7e6-4c9b-9d0a-4d2148b00e34",
   "metadata": {},
   "source": [
    "Question -9"
   ]
  },
  {
   "cell_type": "code",
   "execution_count": 12,
   "id": "7740b3c6-65fb-4282-bacb-79ac7b11b452",
   "metadata": {},
   "outputs": [
    {
     "name": "stdout",
     "output_type": "stream",
     "text": [
      "John singh\n"
     ]
    }
   ],
   "source": [
    "name = \"John singh\"\n",
    "print(name)\n"
   ]
  },
  {
   "cell_type": "markdown",
   "id": "16bdf954-e529-42ed-8ad5-bed3c7a355ec",
   "metadata": {},
   "source": [
    "Question-10"
   ]
  },
  {
   "cell_type": "code",
   "execution_count": 15,
   "id": "68efb41b-217a-4e91-8d76-4884f1ee9faa",
   "metadata": {},
   "outputs": [
    {
     "data": {
      "text/plain": [
       "'World'"
      ]
     },
     "execution_count": 15,
     "metadata": {},
     "output_type": "execute_result"
    }
   ],
   "source": [
    "string=\"Hello, World!\"\n",
    "string[-6:-1]"
   ]
  },
  {
   "cell_type": "code",
   "execution_count": null,
   "id": "7754cea4-13ad-4437-887e-fcc9d69f8fff",
   "metadata": {},
   "outputs": [],
   "source": []
  },
  {
   "cell_type": "markdown",
   "id": "af3674a1-82dc-4f5d-8d42-efb085651b69",
   "metadata": {},
   "source": [
    "Question-11"
   ]
  },
  {
   "cell_type": "code",
   "execution_count": 16,
   "id": "68789019-ec6c-4eb9-9cbc-be6b0c2e9d84",
   "metadata": {},
   "outputs": [],
   "source": [
    "is_student = True\n"
   ]
  },
  {
   "cell_type": "code",
   "execution_count": null,
   "id": "6e0e3e68-a415-4139-b04f-9651f96da332",
   "metadata": {},
   "outputs": [],
   "source": []
  }
 ],
 "metadata": {
  "kernelspec": {
   "display_name": "Python 3 (ipykernel)",
   "language": "python",
   "name": "python3"
  },
  "language_info": {
   "codemirror_mode": {
    "name": "ipython",
    "version": 3
   },
   "file_extension": ".py",
   "mimetype": "text/x-python",
   "name": "python",
   "nbconvert_exporter": "python",
   "pygments_lexer": "ipython3",
   "version": "3.10.8"
  }
 },
 "nbformat": 4,
 "nbformat_minor": 5
}
